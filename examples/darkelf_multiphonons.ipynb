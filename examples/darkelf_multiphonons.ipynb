{
 "cells": [
  {
   "cell_type": "markdown",
   "metadata": {},
   "source": [
    "# DarkELF multiphonon notebook"
   ]
  },
  {
   "cell_type": "markdown",
   "metadata": {},
   "source": [
    "This notebook is meant to illustrate the part of the darkELF package for calculating dark matter-phonon rates in the multiphonon regime.\n",
    "\n",
    "written by Ethan, updated 05/02/2022"
   ]
  },
  {
   "cell_type": "code",
   "execution_count": 1,
   "metadata": {},
   "outputs": [],
   "source": [
    "%matplotlib inline\n",
    "\n",
    "import sys, os\n",
    "import numpy as np\n",
    "from numpy import pi\n",
    "import matplotlib.pyplot as plt\n",
    "import matplotlib.ticker\n",
    "from matplotlib import rc, rcParams\n",
    "import matplotlib.cm as cm\n",
    "from mpl_toolkits.axes_grid1 import make_axes_locatable\n",
    "import time\n",
    "import pandas\n",
    "from scipy import interpolate\n",
    "\n",
    "# Make use of TeX\\ufeff\n",
    "rc('text',usetex=True)\n",
    "# Change all fonts to 'Computer Modern'\n",
    "rc('font',**{'size':14, 'family':'serif','serif':['Times New Roman']})\n",
    "rc('xtick.major', size=5, pad=7)\n",
    "rc('xtick', labelsize=15)\n",
    "rc('ytick.major', size=5, pad=7)\n",
    "rc('ytick', labelsize=15)\n",
    "\n",
    "# this needs to point to the folder where darkelf.py is stored\n",
    "work_dir = os.getcwd()\n",
    "sys.path.append(work_dir+\"/..\")\n",
    "plotdir=work_dir+\"/plots/\"\n",
    "\n",
    "# load the package\n",
    "from darkelf import darkelf, targets"
   ]
  },
  {
   "cell_type": "markdown",
   "metadata": {},
   "source": [
    "## Load the materials"
   ]
  },
  {
   "cell_type": "markdown",
   "metadata": {},
   "source": [
    "DarkELF comes with a number of pre-tabulate data files, which encode important properties of the materials which are difficult and/or slow to compute on the fly. The list of available data files can be accessed with the \"targets.files()\" command, as illustrated below."
   ]
  },
  {
   "cell_type": "code",
   "execution_count": 2,
   "metadata": {},
   "outputs": [
    {
     "name": "stdout",
     "output_type": "stream",
     "text": [
      "Available configuration files: \n",
      "\t GaAs.yaml\n",
      " \n",
      "Available data for epsilon: \n",
      "\t GaAs_mermin.dat\n",
      "\t GaAs_epsphonon_data10K.dat\n",
      " \n",
      "Available data for phonon (partial) density of states: \n",
      "\t Ga_pDoS.dat\n",
      "\t As_pDoS.dat\n",
      " \n",
      "Available data for Fn(omega) functions: \n",
      "\t As_Fn.dat\n",
      "\t Ga_Fn.dat\n",
      " \n",
      "Available data for form factors: \n",
      "\t Ga_Zion.dat\n",
      "\t Ga_atomic_Zion.dat\n",
      "\t As_Zion.dat\n",
      "\t As_atomic_Zion.dat\n"
     ]
    }
   ],
   "source": [
    "targets.files('GaAs')"
   ]
  },
  {
   "cell_type": "markdown",
   "metadata": {},
   "source": [
    "For the example above:\n",
    "    \n",
    "*    GaAs.yaml contains global properties of the material, such as mass density, atomic numbers etc\n",
    "*    The espilon data tables parametrize the dielectric function in various regimes and with different computational methods. The dielectric function is not used in the multiphonon calculations. (See darkelf_epsilon.ipynb for details)\n",
    "*    The phonon partial density of states are needed to compute the multiphonon rate, and were take from the Materials Project. (https://materialsproject.org/) By default, darkELF loads the density of state tables that came with the package, but the user can choose to insert their own extraction by adding the file to the folder of the corresponding material. The user-supplied (p)DOS can then be loaded with the \"dos_filename\" flag. This flag accepts a single filename as well as a list of filenames. In the former case, it interprets the file as the full DOS of the material. In the latter case, each file will be interpretted as a pDOS.\n",
    "\n",
    "*    To speed up the computations, the multiphonon rate is computed with pretabulated auxiliary functions \"Fn\". The default \"Fn\" functions are calculated for the default density of states provided with darkELF. If using your own density of states, you must first run the \"create_Fn_omega()\" function on the desired density of states to recompute these pretabulated functions. (See below.) Beware that this step is somewhat time consuming. If the desired pDOS is specified with the \"dos_filename\" flag, darkELF will automatically load the corresponding Fn table.\n",
    "\n",
    "*    For a dark photon mediator, the DM couples to the momentum dependent effective charge of the nuclei. By default, DarkELF loads this from a look-up table whenever needed, specified by the Zion.dat files. In the example above, \"Ga_Zion.dat\" refers to the effective charge of ionized Ga, meaning Z=+3 in the zero momentum limit. \"Ga_atomic_Zion.dat\" refers to the effective charge of atomic Ga, meaning Z=0 in the zero momentum limit. By default, the atomic effective charges are used. \n",
    "   "
   ]
  },
  {
   "cell_type": "markdown",
   "metadata": {},
   "source": [
    "Let's load a few materials."
   ]
  },
  {
   "cell_type": "code",
   "execution_count": 3,
   "metadata": {},
   "outputs": [
    {
     "name": "stdout",
     "output_type": "stream",
     "text": [
      " .... Loading files for GaAs\n",
      "Loaded GaAs_mermin.dat for epsilon in electron regime\n",
      "electronic ELF taken or calculated from Y. Tu, C. Kwei and C. Tung,Angular and energy dependences of the surface excitation parameter for semiconducting iii–v compounds, Surface Science601(2007) 865.\n",
      "phonon ELF taken or calculated from H.M. Lawler and E.L. Shirley, Anharmonic effects on infrared spectra of GaAs and gap:  First-principles calculations, Phys. Rev. B70(2004) 245209 and E.D. Palik, Gallium arsenide (gaas), in Handbook of Optical Constants of Solids, E.D. Palik, ed.,pp. 429–443, Elsevier (1985).\n",
      "Loaded GaAs_epsphonon_data10K.dat for epsilon in phonon regime\n",
      "Warning! Atomic Migdal calculation not present\n",
      "Warning! Momentum dependent Zion for Migdal calculation not loaded. Using Z - number of valence electrons.\n",
      "Loaded Ga_atomic_Zion.dat and As_atomic_Zion.dat for effective charges\n",
      "Loaded Ga_pDoS.dat and As_pDoS.dat for partial densities of states\n",
      "Loaded Fn(omega) functions corresponding to density of states in:  Ga_pDoS.dat   As_pDoS.dat\n",
      "------\n",
      " .... Loading files for Si\n",
      "Loaded Si_gpaw_withLFE.dat for epsilon in electron regime\n",
      "electronic ELF taken or calculated from J. Enkovaara et al.,Electronic structure calculations with GPAW: a real-space implementation of the projector augmented-wave method,Journal of Physics:Condensed Matter22(2010) 253202.\n",
      "phonon ELF taken or calculated from M. Ikezawa and M. Ishigame, Far-Infrared AbsorptionDue to the Two-Phonon Difference Process in Si, Journal of the Physical Society of Japan 50(1981) 3734.\n",
      "Loaded Si_epsphonon_data6K.dat for epsilon in phonon regime\n",
      "Zion(k) for Migdal calculation taken or calculated from: P. J. Brown, A. G. Fox, E. N. Maslen, M. A. OKeefe,and B. T. M. Willis, “Intensity of diffracted intensities,” in International Tables for Crystallography (American Cancer Society, 2006) Chap. 6.1, pp. 554–595, https://onlinelibrary.wiley.com/doi/pdf/10.1107/97809553602060000\n",
      "Loaded Si_atomic_Zion.dat for dark photon couplings\n",
      "Loaded Si_DoS.dat for density of states\n",
      "Loaded Fn(omega) functions corresponding to density of states in:  Si_DoS.dat\n",
      "------\n"
     ]
    }
   ],
   "source": [
    "gaas = darkelf(target='GaAs')\n",
    "print(\"------\")\n",
    "si = darkelf(target='Si')\n",
    "print(\"------\")"
   ]
  },
  {
   "cell_type": "markdown",
   "metadata": {},
   "source": [
    "# Cross section plots"
   ]
  },
  {
   "cell_type": "markdown",
   "metadata": {},
   "source": [
    "Now using the sigma_nucleon function to calculate the required DM-nucleon cross-section for a rate of 3 events/kg/yr"
   ]
  },
  {
   "cell_type": "code",
   "execution_count": 4,
   "metadata": {},
   "outputs": [
    {
     "data": {
      "text/plain": [
       "\u001b[0;31mSignature:\u001b[0m \u001b[0mgaas\u001b[0m\u001b[0;34m.\u001b[0m\u001b[0msigma_multiphonons\u001b[0m\u001b[0;34m(\u001b[0m\u001b[0mthreshold\u001b[0m\u001b[0;34m,\u001b[0m \u001b[0mdark_photon\u001b[0m\u001b[0;34m=\u001b[0m\u001b[0;32mFalse\u001b[0m\u001b[0;34m)\u001b[0m\u001b[0;34m\u001b[0m\u001b[0;34m\u001b[0m\u001b[0m\n",
       "\u001b[0;31mDocstring:\u001b[0m\n",
       "returns DM-proton cross-section [cm^2] corresponding to 3 events/kg/yr\n",
       "Inputs\n",
       "------\n",
       "threshold: float\n",
       "  experimental threshold, in eV\n",
       "dark_photon: Bool\n",
       "  If set to True, a dark photon mediator is assumed, by setting f_d(q) = Z_d(q), with Z_d(q) the momentum dependent effective charges. If set to False, darkELF sets f_d=A_d, which corresponds to a scalar mediator with coupling to nuclei.\n",
       "\u001b[0;31mFile:\u001b[0m      ~/Documents/work/projects/DM_stuff/darkELF_public/darkelf/multiphonon.py\n",
       "\u001b[0;31mType:\u001b[0m      method\n"
      ]
     },
     "metadata": {},
     "output_type": "display_data"
    }
   ],
   "source": [
    "?gaas.sigma_multiphonons"
   ]
  },
  {
   "cell_type": "code",
   "execution_count": 5,
   "metadata": {},
   "outputs": [
    {
     "name": "stdout",
     "output_type": "stream",
     "text": [
      "Points 0 to 4 took 20.630828142166138 seconds to calculate\n",
      "Points 5 to 9 took 37.963016986846924 seconds to calculate\n",
      "Points 10 to 14 took 56.35818004608154 seconds to calculate\n",
      "Points 15 to 19 took 78.48001503944397 seconds to calculate\n",
      "Points 20 to 24 took 81.53652811050415 seconds to calculate\n",
      "Points 25 to 29 took 109.66098260879517 seconds to calculate\n",
      "Points 30 to 34 took 110.83655714988708 seconds to calculate\n",
      "Points 35 to 39 took 116.02507901191711 seconds to calculate\n"
     ]
    },
    {
     "data": {
      "image/png": "[encoded data removed]",
      "text/plain": [
       "<Figure size 432x288 with 1 Axes>"
      ]
     },
     "metadata": {
      "needs_background": "light"
     },
     "output_type": "display_data"
    }
   ],
   "source": [
    "import seaborn as sns\n",
    "\n",
    "points = 40\n",
    "\n",
    "mdm = np.logspace(4, 9, points)\n",
    "\n",
    "reaches1 = np.zeros(points)\n",
    "reaches2 = np.zeros(points)\n",
    "reaches3 = np.zeros(points)\n",
    "reaches4 = np.zeros(points)\n",
    "\n",
    "import time\n",
    "\n",
    "for i, mass in enumerate(mdm):\n",
    "    gaas.update_params(mX = mass, mMed = 0) # update the DM mass\n",
    "    if (i % 5) == 0:\n",
    "        start = time.time()\n",
    "    reaches1[i] = gaas.sigma_multiphonons(threshold=1e-3)\n",
    "    reaches2[i] = gaas.sigma_multiphonons(threshold=20e-3)\n",
    "    reaches3[i] = gaas.sigma_multiphonons(threshold=1e-1)\n",
    "    reaches4[i] = gaas.sigma_multiphonons(threshold=1)\n",
    "\n",
    "    if (i % 5) == 4:\n",
    "        end = time.time()\n",
    "        print(f'Points {i - 4} to {i} took {end - start} seconds to calculate')\n",
    "        # Just to check that everything is still working\n",
    "        \n",
    "colors = sns.color_palette(\"husl\", 4)\n",
    "\n",
    "fig, ax = plt.subplots()\n",
    "\n",
    "\n",
    "ax.plot(mdm/1e6, reaches1, label='$1$ meV', color=colors[0])\n",
    "ax.plot(mdm/1e6, reaches2, label='$20$ meV', color=colors[1])\n",
    "ax.plot(mdm/1e6, reaches3, label='$100$ eV', color=colors[2])\n",
    "ax.plot(mdm/1e6, reaches4, label='$1$ eV', color=colors[3])\n",
    "\n",
    "\n",
    "ax.set_xscale('log')\n",
    "ax.set_yscale('log')\n",
    "\n",
    "ax.set_xlabel('$m_\\chi \\ [\\mathrm{MeV}]$',fontsize=15)\n",
    "ax.set_ylabel('$\\sigma_n \\ [\\mathrm{cm}^2]$',fontsize=15)\n",
    "\n",
    "ax.tick_params(axis=\"both\",which=\"major\",labelsize=13,direction=\"in\",pad=5)\n",
    "\n",
    "ax.set_title(r'kg-yr GaAs, Massless Mediator')\n",
    "\n",
    "ax.set_xlim([1e-2,1e3])\n",
    "ax.set_ylim([1e-47,1e-37])\n",
    "\n",
    "xtick_major = [pow(10.,n) for n in range(-2,4,1)]\n",
    "ytick_major = [pow(10.,n) for n in range(-47,-36,2)]\n",
    "ax.set_yticks(ytick_major)\n",
    "ax.set_xticks(xtick_major)\n",
    "\n",
    "ax.legend(loc=(0.03,0.01),fontsize=9,frameon=False,ncol=2,title='Threshold Energy')\n",
    "\n",
    "plt.savefig(plotdir+\"gaas_massless_multiphonon.pdf\",bbox_inches='tight')\n"
   ]
  },
  {
   "cell_type": "markdown",
   "metadata": {},
   "source": [
    "If starting with a new density of states, one must run the 'create_Fn_omega()' function. (see below.) This defaults to creating the Fn functions corresponding to the density of states (or list of partial density of states) loaded in in the instantiation of the class. This can take an hour or more. "
   ]
  },
  {
   "cell_type": "markdown",
   "metadata": {},
   "source": [
    "# Differential Rate $\\frac{dR}{d\\omega}$"
   ]
  },
  {
   "cell_type": "code",
   "execution_count": 6,
   "metadata": {},
   "outputs": [
    {
     "data": {
      "image/png": "[encoded data removed]",
      "text/plain": [
       "<Figure size 864x331.2 with 2 Axes>"
      ]
     },
     "metadata": {
      "needs_background": "light"
     },
     "output_type": "display_data"
    }
   ],
   "source": [
    "import seaborn as sns\n",
    "\n",
    "omegarange = np.linspace(1e-4, 200e-3, 2000)\n",
    "\n",
    "gaas.update_params(mX = 1e7, mMed = 1e9) # update the DM mass\n",
    "\n",
    "dr_domega1 = [gaas._dR_domega_multiphonons_no_single(omega) for omega in omegarange]\n",
    "\n",
    "gaas.update_params(mX = 1e8, mMed = 1e9) # update the DM mass\n",
    "\n",
    "dr_domega2 = [gaas._dR_domega_multiphonons_no_single(omega) for omega in omegarange]\n",
    "\n",
    "colors = sns.color_palette(\"husl\", 2)\n",
    "\n",
    "fig, (ax1, ax2) = plt.subplots(1, 2, figsize=(12, 4.6))\n",
    "\n",
    "ax1.plot(omegarange*1e3, dr_domega1, color=colors[0])\n",
    "ax2.plot(omegarange*1e3, dr_domega2, color=colors[1])\n",
    "\n",
    "\n",
    "ax1.set_xlabel(r'$\\omega \\ [\\mathrm{meV}]$',fontsize=15)\n",
    "ax2.set_xlabel(r'$\\omega \\ [\\mathrm{meV}]$',fontsize=15)\n",
    "ax1.set_ylabel(r'$\\frac{dR}{d\\omega} \\ [\\mathrm{Events}/\\mathrm{kg}/\\mathrm{yr}/\\mathrm{eV}]$',fontsize=15)\n",
    "\n",
    "\n",
    "ax1.set_title(r'$m_\\chi = 10$ MeV')\n",
    "ax2.set_title(r'$m_\\chi = 100$ MeV')\n",
    "\n",
    "ax1.set_xlim([0,200])\n",
    "ax2.set_xlim([0,200])\n",
    "\n",
    "ax1.set_ylim([0,4e8])\n",
    "ax2.set_ylim([0,2.5e7])\n",
    "\n",
    "\n",
    "xtick_major = [50*n for n in range(5)]\n",
    "ytick_major = [1e8*n for n in range(5)]\n",
    "ax1.set_yticks(ytick_major)\n",
    "\n",
    "ax1.set_xticks(xtick_major)\n",
    "ax2.set_xticks(xtick_major)\n",
    "\n",
    "ytick_major = [0.5e7*n for n in range(6)]\n",
    "ax2.set_yticks(ytick_major)\n",
    "\n",
    "plt.suptitle(r'GaAs Differential Rate, Massive Mediator, $\\sigma_n = 10^{-38} \\mathrm{cm}^2$', y=1.03)\n",
    "\n",
    "plt.savefig(plotdir+\"gaas_massive_rates.pdf\",bbox_inches='tight')"
   ]
  },
  {
   "cell_type": "markdown",
   "metadata": {},
   "source": [
    "# Custom Momentum-dependent coupling (Dark Photon)"
   ]
  },
  {
   "cell_type": "markdown",
   "metadata": {},
   "source": [
    "Here we calculate the cross-section for a rate of 3 events/kg/yr for a dark photon, using custom atomic couplings. In order to do this, the form factor must be loaded in at the instantiation of the class via 'fd_filename' (multiple filenames if multiple atoms) and the flag 'dark_photon' must be set to 'True' in function calls. Note that the default coupling without a custom coupling is the mass number.\n",
    "\n",
    "Our effective charge here is valid for processes dominated by large momenta (massive mediator or $\\geq2$-phonon calculations."
   ]
  },
  {
   "cell_type": "code",
   "execution_count": 7,
   "metadata": {},
   "outputs": [
    {
     "name": "stdout",
     "output_type": "stream",
     "text": [
      " .... Loading files for Si\n",
      "Loaded Si_gpaw_withLFE.dat for epsilon in electron regime\n",
      "electronic ELF taken or calculated from J. Enkovaara et al.,Electronic structure calculations with GPAW: a real-space implementation of the projector augmented-wave method,Journal of Physics:Condensed Matter22(2010) 253202.\n",
      "phonon ELF taken or calculated from M. Ikezawa and M. Ishigame, Far-Infrared AbsorptionDue to the Two-Phonon Difference Process in Si, Journal of the Physical Society of Japan 50(1981) 3734.\n",
      "Loaded Si_epsphonon_data6K.dat for epsilon in phonon regime\n",
      "Zion(k) for Migdal calculation taken or calculated from: P. J. Brown, A. G. Fox, E. N. Maslen, M. A. OKeefe,and B. T. M. Willis, “Intensity of diffracted intensities,” in International Tables for Crystallography (American Cancer Society, 2006) Chap. 6.1, pp. 554–595, https://onlinelibrary.wiley.com/doi/pdf/10.1107/97809553602060000\n",
      "Loaded Si_atomic_Zion.dat for dark photon couplings\n",
      "Loaded Si_DoS.dat for density of states\n",
      "Loaded Fn(omega) functions corresponding to density of states in:  Si_DoS.dat\n",
      "Points 0 to 4 took 30.85577392578125 seconds to calculate\n",
      "Points 5 to 9 took 40.910391092300415 seconds to calculate\n",
      "Points 10 to 14 took 58.31696605682373 seconds to calculate\n",
      "Points 15 to 19 took 51.89849495887756 seconds to calculate\n"
     ]
    },
    {
     "data": {
      "image/png": "[encoded data removed]",
      "text/plain": [
       "<Figure size 432x288 with 1 Axes>"
      ]
     },
     "metadata": {
      "needs_background": "light"
     },
     "output_type": "display_data"
    }
   ],
   "source": [
    "import seaborn as sns\n",
    "\n",
    "# Loads dark photon form factor \n",
    "si = darkelf(target='Si',dos_filename=\"Si_DoS.dat\",\n",
    "             fd_filename='Si_atomic_Zion.dat')\n",
    "\n",
    "points = 20\n",
    "\n",
    "mdm = np.logspace(6, 9, points)\n",
    "\n",
    "(reaches1, reaches2, reaches3, reaches4) = (np.zeros(points),np.zeros(points),np.zeros(points),np.zeros(points))\n",
    "\n",
    "import time\n",
    "\n",
    "for i, mass in enumerate(mdm):\n",
    "    si.update_params(mX = mass, mMed = 1e10) # update the DM mass\n",
    "    if (i % 5) == 0:\n",
    "        start = time.time()\n",
    "    reaches1[i] = si.sigma_multiphonons(80e-3, dark_photon=True)\n",
    "    reaches2[i] = si.sigma_multiphonons(120e-3, dark_photon=True)\n",
    "    reaches3[i] = si.sigma_multiphonons(200e-3, dark_photon=True)\n",
    "    reaches4[i] = si.sigma_multiphonons(1000e-3, dark_photon=True)\n",
    "\n",
    "\n",
    "    if (i % 5) == 4:\n",
    "        end = time.time()\n",
    "        print(f'Points {i - 4} to {i} took {end - start} seconds to calculate')\n",
    "        # Just to check that everything is still working\n",
    "        \n",
    "colors = sns.color_palette(\"husl\", 4)\n",
    "\n",
    "fig, ax = plt.subplots()\n",
    "\n",
    "ax.plot(mdm/1e6, reaches1, label='$80$ meV', color=colors[0])\n",
    "ax.plot(mdm/1e6, reaches2, label='$120$ meV', color=colors[1])\n",
    "ax.plot(mdm/1e6, reaches3, label='$200$ meV', color=colors[2])\n",
    "ax.plot(mdm/1e6, reaches4, label='$1$ eV', color=colors[3])\n",
    "\n",
    "ax.set_xscale('log')\n",
    "ax.set_yscale('log')\n",
    "\n",
    "ax.set_xlim([1e0,1e3])\n",
    "ax.set_ylim([1e-43,1e-37])\n",
    "\n",
    "ax.set_xlabel('$m_\\chi \\ [\\mathrm{MeV}]$',fontsize=15)\n",
    "ax.set_ylabel('$\\sigma_p \\ [\\mathrm{cm}^2]$',fontsize=15)\n",
    "\n",
    "ax.tick_params(axis=\"both\",which=\"major\",labelsize=13,direction=\"in\",pad=5)\n",
    "\n",
    "xtick_major = [pow(10.,n) for n in range(0,4,1)]\n",
    "ytick_major = [pow(10.,n) for n in range(-43,-36,2)]\n",
    "ax.set_yticks(ytick_major)\n",
    "ax.set_xticks(xtick_major)\n",
    "\n",
    "ax.set_title(r'kg-yr Si, Massive Dark Photon')\n",
    "\n",
    "ax.legend(loc=(0.60,0.75),fontsize=8,frameon=False,ncol=2,title=\"Threshold Energy\",)\n",
    "\n",
    "plt.savefig(plotdir+\"si_massive_dark_photon.pdf\",bbox_inches='tight')\n"
   ]
  },
  {
   "cell_type": "markdown",
   "metadata": {},
   "source": [
    "## Using a user-supplied DOS table"
   ]
  },
  {
   "cell_type": "markdown",
   "metadata": {},
   "source": [
    "The user can update the pretabulated Fn function with their own density of states, using the \"create_Fn_omega\" function. To demonstrate how this works, we included to the \"Ga_pDoS_test.dat\" and \"As_pDoS_test.dat\" files, which are identical to \"Ga_pDoS.dat\" and \"As_pDoS.dat\" and just serve to illustrate how to include user supplied pDOS files. Concretely, we first make a new darkELF object, specifying these new pDOS files:\n",
    "\n"
   ]
  },
  {
   "cell_type": "code",
   "execution_count": 8,
   "metadata": {},
   "outputs": [
    {
     "name": "stdout",
     "output_type": "stream",
     "text": [
      " .... Loading files for GaAs\n",
      "Loaded GaAs_mermin.dat for epsilon in electron regime\n",
      "electronic ELF taken or calculated from Y. Tu, C. Kwei and C. Tung,Angular and energy dependences of the surface excitation parameter for semiconducting iii–v compounds, Surface Science601(2007) 865.\n",
      "phonon ELF taken or calculated from H.M. Lawler and E.L. Shirley, Anharmonic effects on infrared spectra of GaAs and gap:  First-principles calculations, Phys. Rev. B70(2004) 245209 and E.D. Palik, Gallium arsenide (gaas), in Handbook of Optical Constants of Solids, E.D. Palik, ed.,pp. 429–443, Elsevier (1985).\n",
      "Loaded GaAs_epsphonon_data10K.dat for epsilon in phonon regime\n",
      "Warning! Atomic Migdal calculation not present\n",
      "Warning! Momentum dependent Zion for Migdal calculation not loaded. Using Z - number of valence electrons.\n",
      "Loaded Ga_atomic_Zion.dat and As_atomic_Zion.dat for effective charges\n",
      "Loaded Ga_pDoS_test.dat and As_pDoS_test.dat for partial densities of states\n",
      "Warning! Fn(omega) functions not loaded. Need to calculate Fn(omega) from density of states\n",
      "Use the function 'create_Fn_omega' to produce these files\n"
     ]
    }
   ],
   "source": [
    "# just deleting any potential left-over Fn files from previous runs\n",
    "if os.path.isfile(work_dir+\"/../data/GaAs/Ga_Fn_test.dat\"):\n",
    "    os.remove(work_dir+\"/../data/GaAs/Ga_Fn_test.dat\")        \n",
    "if os.path.isfile(work_dir+\"/../data/GaAs/As_Fn_test.dat\"):\n",
    "    os.remove(work_dir+\"/../data/GaAs/As_Fn_test.dat\")\n",
    "    \n",
    "gaas_test = darkelf(target='GaAs',dos_filename=[\"Ga_pDoS_test.dat\",\"As_pDoS_test.dat\"])"
   ]
  },
  {
   "cell_type": "markdown",
   "metadata": {},
   "source": [
    "because GaAs is diatomic crystal, we specified both files a list as an argument to \"dos_filename\". Note that the definition of the object produces a warning if it doesn't find the Fn files, indicating that the user should run \"create_Fn_omega\", as below. The option \"npoints\" indicat the number of points in the grid that is generated; we recommend at least npoints=750 for good accuracy. Since this is step rather slow, we will here run with npoints=20 for illustrative purposes. (This grid should NOT be used for physics calculations.)\n",
    "\n",
    "The code will spit out a status update if it completed a particular final state."
   ]
  },
  {
   "cell_type": "code",
   "execution_count": 9,
   "metadata": {},
   "outputs": [
    {
     "name": "stdout",
     "output_type": "stream",
     "text": [
      "/Users/knapen/Documents/work/projects/DM_stuff/darkELF_public/darkelf/../data/GaAs/Ga_Fn_test.dat\n",
      "6.089571237564087 seconds for 2 phonons\n",
      "12.606563091278076 seconds for 3 phonons\n",
      "17.43221092224121 seconds for 4 phonons\n",
      "23.00077199935913 seconds for 5 phonons\n",
      "24.507512092590332 seconds for 6 phonons\n",
      "24.03567099571228 seconds for 7 phonons\n",
      "26.086449146270752 seconds for 8 phonons\n",
      "20.12293791770935 seconds for 9 phonons\n",
      "19.311187982559204 seconds for 10 phonons\n",
      "result saved in /Users/knapen/Documents/work/projects/DM_stuff/darkELF_public/darkelf/../data/GaAs/Ga_Fn_test.dat\n",
      "/Users/knapen/Documents/work/projects/DM_stuff/darkELF_public/darkelf/../data/GaAs/As_Fn_test.dat\n",
      "6.521359920501709 seconds for 2 phonons\n",
      "10.285343885421753 seconds for 3 phonons\n",
      "16.31454110145569 seconds for 4 phonons\n",
      "26.151064157485962 seconds for 5 phonons\n",
      "31.615352630615234 seconds for 6 phonons\n",
      "29.583627939224243 seconds for 7 phonons\n",
      "24.783081769943237 seconds for 8 phonons\n",
      "24.056915044784546 seconds for 9 phonons\n",
      "22.240687131881714 seconds for 10 phonons\n",
      "result saved in /Users/knapen/Documents/work/projects/DM_stuff/darkELF_public/darkelf/../data/GaAs/As_Fn_test.dat\n",
      "Loaded Fn(omega) functions corresponding to density of states in:  Ga_pDoS_test.dat   As_pDoS_test.dat\n"
     ]
    }
   ],
   "source": [
    "gaas_test.create_Fn_omega(npoints=20)"
   ]
  },
  {
   "cell_type": "markdown",
   "metadata": {},
   "source": [
    "At the end of this process, a the output will be stored in as a look-up table in a new \"Fn\" file, for future usage. The name of the Fn files is based on the name of the DoS files as follows\n",
    "\n",
    "\n",
    "Ga_pDoS_test.dat --> Ga_Fn_test.dat\n",
    "\n",
    "As_pDos_test.dat -> As_Fn_test.dat\n",
    "\n",
    " \n",
    "etc. \n",
    "\n",
    "It is important that the filenames of all user-supplied DOS or partial DOS files include the string \"DoS\" or \"pDoS\" respectively. When running the code, it suffices to specify the desired DOS file(s) with the \"dos_filename\" flag in the constructor. DarkELF will then automatically load in the corresponding Fn-tables, or calculate them if needed.  If we now reload the darkELF object, the warning should have disappeared."
   ]
  },
  {
   "cell_type": "code",
   "execution_count": 10,
   "metadata": {},
   "outputs": [
    {
     "name": "stdout",
     "output_type": "stream",
     "text": [
      " .... Loading files for GaAs\n",
      "Loaded GaAs_mermin.dat for epsilon in electron regime\n",
      "electronic ELF taken or calculated from Y. Tu, C. Kwei and C. Tung,Angular and energy dependences of the surface excitation parameter for semiconducting iii–v compounds, Surface Science601(2007) 865.\n",
      "phonon ELF taken or calculated from H.M. Lawler and E.L. Shirley, Anharmonic effects on infrared spectra of GaAs and gap:  First-principles calculations, Phys. Rev. B70(2004) 245209 and E.D. Palik, Gallium arsenide (gaas), in Handbook of Optical Constants of Solids, E.D. Palik, ed.,pp. 429–443, Elsevier (1985).\n",
      "Loaded GaAs_epsphonon_data10K.dat for epsilon in phonon regime\n",
      "Warning! Atomic Migdal calculation not present\n",
      "Warning! Momentum dependent Zion for Migdal calculation not loaded. Using Z - number of valence electrons.\n",
      "Loaded Ga_atomic_Zion.dat and As_atomic_Zion.dat for effective charges\n",
      "Loaded Ga_pDoS_test.dat and As_pDoS_test.dat for partial densities of states\n",
      "Loaded Fn(omega) functions corresponding to density of states in:  Ga_pDoS_test.dat   As_pDoS_test.dat\n"
     ]
    }
   ],
   "source": [
    "gaas_test = darkelf(target='GaAs',dos_filename=[\"Ga_pDoS_test.dat\",\"As_pDoS_test.dat\"])"
   ]
  },
  {
   "cell_type": "markdown",
   "metadata": {},
   "source": [
    "The new darkelf object can now be used for calculations"
   ]
  },
  {
   "cell_type": "code",
   "execution_count": 11,
   "metadata": {},
   "outputs": [
    {
     "name": "stdout",
     "output_type": "stream",
     "text": [
      "1.0973728262098506e-28\n",
      "1.9867474456553369e-44\n"
     ]
    }
   ],
   "source": [
    "print(gaas_test.sigma_multiphonons(0.1))\n",
    "print(gaas.sigma_multiphonons(0.1))"
   ]
  },
  {
   "cell_type": "markdown",
   "metadata": {},
   "source": [
    "Numerical difference is here due to the poor resolution of the Fn functions we calculated for the gaas_test object."
   ]
  },
  {
   "cell_type": "code",
   "execution_count": null,
   "metadata": {},
   "outputs": [],
   "source": []
  }
 ],
 "metadata": {
  "kernelspec": {
   "display_name": "Python 3",
   "language": "python",
   "name": "python3"
  },
  "language_info": {
   "codemirror_mode": {
    "name": "ipython",
    "version": 3
   },
   "file_extension": ".py",
   "mimetype": "text/x-python",
   "name": "python",
   "nbconvert_exporter": "python",
   "pygments_lexer": "ipython3",
   "version": "3.7.6"
  }
 },
 "nbformat": 4,
 "nbformat_minor": 4
}

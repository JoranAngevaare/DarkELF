{
 "cells": [
  {
   "cell_type": "markdown",
   "metadata": {},
   "source": [
    "# DarkELF multiphonon notebook"
   ]
  },
  {
   "cell_type": "markdown",
   "metadata": {},
   "source": [
    "This notebook is meant to illustrate the part of the darkELF package for calculating dark matter-phonon rates in the multiphonon regime.\n",
    "\n",
    "written by Ethan, updated 03/07/2021"
   ]
  },
  {
   "cell_type": "code",
   "execution_count": 1,
   "metadata": {},
   "outputs": [],
   "source": [
    "%matplotlib inline\n",
    "\n",
    "import sys, os\n",
    "import numpy as np\n",
    "from numpy import pi\n",
    "import matplotlib.pyplot as plt\n",
    "import matplotlib.ticker\n",
    "from matplotlib import rc, rcParams\n",
    "import matplotlib.cm as cm\n",
    "from mpl_toolkits.axes_grid1 import make_axes_locatable\n",
    "import time\n",
    "import pandas\n",
    "from scipy import interpolate\n",
    "\n",
    "# Make use of TeX\\ufeff\n",
    "rc('text',usetex=True)\n",
    "# Change all fonts to 'Computer Modern'\n",
    "rc('font',**{'size':14, 'family':'serif','serif':['Times New Roman']})\n",
    "rc('xtick.major', size=5, pad=7)\n",
    "rc('xtick', labelsize=15)\n",
    "rc('ytick.major', size=5, pad=7)\n",
    "rc('ytick', labelsize=15)\n",
    "\n",
    "# this needs to point to the folder where darkelf.py is stored\n",
    "work_dir = os.getcwd()\n",
    "sys.path.append(work_dir+\"/..\")\n",
    "plotdir=work_dir+\"/plots/\"\n",
    "\n",
    "# load the package\n",
    "from darkelf import darkelf, targets"
   ]
  },
  {
   "cell_type": "markdown",
   "metadata": {},
   "source": [
    "## Load the materials"
   ]
  },
  {
   "cell_type": "markdown",
   "metadata": {},
   "source": [
    "When loading the materials, the \"dos_filename\" flag specifies the density of states that is being used for the calculation. It must be set in order to calculate rates in the multiphonon regime. DarkELF comes with one or more tabulated DOS files for each material. The user can add their own by simply adding the tabulated DOS to the folder of the material in question. In polyatomic materials, sometimes the partial density of states is provided for each atom. In this case, the \"dos_filename\" flag accepts a list of filenames, one for each partial density of states. (See GaAs example below.)\n",
    "\n",
    "\n",
    "The multiphonon rate is computed with pretabulated auxiliary functions \"Fn\", to increase the computation speed. The default \"Fn\" functions are calculated for the default density of states provided with darkELF. If using your own density of states, you must first run the \"create_Fn_omega()\" function on the desired density of states to recompute these pretabulated functions."
   ]
  },
  {
   "cell_type": "code",
   "execution_count": 2,
   "metadata": {},
   "outputs": [
    {
     "name": "stdout",
     "output_type": "stream",
     "text": [
      "Available configuration files: \n",
      "\t GaAs.yaml\n",
      " \n",
      "Available data for epsilon: \n",
      "\t GaAs_mermin.dat\n",
      "\t Ga_pDOS.dat\n",
      "\t Ga_atomic_Zion.dat\n",
      "\t As_pDOS.dat\n",
      "\t As_atomic_Zion.dat\n",
      "\t GaAs_epsphonon_data10K.dat\n",
      " \n",
      "Available data for phonon density of states: \n",
      " \n",
      "Available data for phonon partial density of states: \n",
      " \n",
      "Available data for Fn(omega) functions: \n",
      "\t As_Fn.dat\n",
      "\t Ga_Fn.dat\n",
      " \n",
      "Available data for form factors: \n"
     ]
    }
   ],
   "source": [
    "targets.files('GaAs')"
   ]
  },
  {
   "cell_type": "markdown",
   "metadata": {},
   "source": [
    "This is referring to the effective charge right?\n",
    "\n",
    "If one is only interested in the multiphonon response, the electronic response specified with the \"filename\" flag is not used. If it is not specified, the code will produce a warning message, as seen below. There's also an optional form_factor_filename if one is interested in using a custom DM-atomic form factor. These can be ignored as long as we only care about DM-multiphonon scattering. Let's load a few materials."
   ]
  },
  {
   "cell_type": "code",
   "execution_count": 3,
   "metadata": {},
   "outputs": [
    {
     "name": "stdout",
     "output_type": "stream",
     "text": [
      " .... Loading files for GaAs\n",
      "Loaded GaAs_mermin.dat for epsilon in electron regime\n",
      "electronic ELF taken or calculated from Y. Tu, C. Kwei and C. Tung,Angular and energy dependences of the surface excitation parameter for semiconducting iii–v compounds, Surface Science601(2007) 865.\n",
      "Warning! eps for phonon frequencies not loaded. Need to set phonon_filename to perform data-driven, single phonon calculations\n",
      "Warning! Atomic Migdal calculation not present\n",
      "Warning! Momentum Zion not loaded. Using Z - number of valence electrons.\n",
      "Loaded Ga_atomic_Zion.dat and As_atomic_Zion.dat for effective charges\n",
      "Loaded Ga_pDoS.dat and As_pDoS.dat for partial densities of states\n",
      "Loaded Fn(omega) functions corresponding to density of states in:  Ga_pDoS.dat   As_pDoS.dat\n",
      "------\n",
      " .... Loading files for Si\n",
      "Loaded Si_gpaw_withLFE.dat for epsilon in electron regime\n",
      "electronic ELF taken or calculated from J. Enkovaara et al.,Electronic structure calculations with GPAW: a real-space implementation of the projector augmented-wave method,Journal of Physics:Condensed Matter22(2010) 253202.\n",
      "Warning! eps for phonon frequencies not loaded. Need to set phonon_filename to perform data-driven, single phonon calculations\n",
      "Zion(k) for Migdal calculation taken or calculated from: P. J. Brown, A. G. Fox, E. N. Maslen, M. A. OKeefe,and B. T. M. Willis, “Intensity of diffracted intensities,” in International Tables for Crystallography (American Cancer Society, 2006) Chap. 6.1, pp. 554–595, https://onlinelibrary.wiley.com/doi/pdf/10.1107/97809553602060000\n",
      "Loaded Si_atomic_Zion.dat for dark photon couplings\n",
      "Loaded Si_DoS.dat for density of states\n",
      "Loaded Fn(omega) functions corresponding to density of states in:  Si_DoS.dat\n",
      "------\n"
     ]
    }
   ],
   "source": [
    "gaas = darkelf(target='GaAs',dos_filename=[\"Ga_pDoS.dat\",\"As_pDoS.dat\"])\n",
    "print(\"------\")\n",
    "si = darkelf(target='Si',dos_filename=\"Si_DoS.dat\")\n",
    "print(\"------\")"
   ]
  },
  {
   "cell_type": "markdown",
   "metadata": {},
   "source": [
    "# Cross section plots"
   ]
  },
  {
   "cell_type": "markdown",
   "metadata": {},
   "source": [
    "Now using the sigma_nucleon function to calculate the required DM-nucleon cross-section for a rate of 3 events/kg/yr"
   ]
  },
  {
   "cell_type": "code",
   "execution_count": 4,
   "metadata": {},
   "outputs": [],
   "source": [
    "?gaas.sigma_multiphonons"
   ]
  },
  {
   "cell_type": "code",
   "execution_count": 5,
   "metadata": {},
   "outputs": [
    {
     "name": "stdout",
     "output_type": "stream",
     "text": [
      "Points 0 to 4 took 9.368507862091064 seconds to calculate\n",
      "Points 5 to 9 took 18.032849073410034 seconds to calculate\n",
      "Points 10 to 14 took 28.68356704711914 seconds to calculate\n",
      "Points 15 to 19 took 39.3555109500885 seconds to calculate\n",
      "Points 20 to 24 took 39.32721781730652 seconds to calculate\n",
      "Points 25 to 29 took 46.504987955093384 seconds to calculate\n",
      "Points 30 to 34 took 49.13956689834595 seconds to calculate\n",
      "Points 35 to 39 took 44.33746790885925 seconds to calculate\n"
     ]
    },
    {
     "data": {
      "image/png": "[encoded data removed]",
      "text/plain": [
       "<Figure size 432x288 with 1 Axes>"
      ]
     },
     "metadata": {
      "needs_background": "light"
     },
     "output_type": "display_data"
    }
   ],
   "source": [
    "import seaborn as sns\n",
    "\n",
    "points = 40\n",
    "\n",
    "mdm = np.logspace(4, 9, points)\n",
    "\n",
    "reaches1 = np.zeros(points)\n",
    "reaches2 = np.zeros(points)\n",
    "reaches3 = np.zeros(points)\n",
    "reaches4 = np.zeros(points)\n",
    "\n",
    "import time\n",
    "\n",
    "for i, mass in enumerate(mdm):\n",
    "    gaas.update_params(mX = mass, mMed = 0) # update the DM mass\n",
    "    if (i % 5) == 0:\n",
    "        start = time.time()\n",
    "    reaches1[i] = gaas.sigma_multiphonons(threshold=1e-3)\n",
    "    reaches2[i] = gaas.sigma_multiphonons(threshold=20e-3)\n",
    "    reaches3[i] = gaas.sigma_multiphonons(threshold=1e-1)\n",
    "    reaches4[i] = gaas.sigma_multiphonons(threshold=1)\n",
    "\n",
    "    if (i % 5) == 4:\n",
    "        end = time.time()\n",
    "        print(f'Points {i - 4} to {i} took {end - start} seconds to calculate')\n",
    "        # Just to check that everything is still working\n",
    "        \n",
    "colors = sns.color_palette(\"husl\", 4)\n",
    "\n",
    "fig, ax = plt.subplots()\n",
    "\n",
    "\n",
    "ax.plot(mdm/1e6, reaches1, label='$1$ meV', color=colors[0])\n",
    "ax.plot(mdm/1e6, reaches2, label='$20$ meV', color=colors[1])\n",
    "ax.plot(mdm/1e6, reaches3, label='$100$ eV', color=colors[2])\n",
    "ax.plot(mdm/1e6, reaches4, label='$1$ eV', color=colors[3])\n",
    "\n",
    "\n",
    "ax.set_xscale('log')\n",
    "ax.set_yscale('log')\n",
    "\n",
    "ax.set_xlabel('$m_\\chi \\ [\\mathrm{MeV}]$',fontsize=15)\n",
    "ax.set_ylabel('$\\sigma_n \\ [\\mathrm{cm}^2]$',fontsize=15)\n",
    "\n",
    "ax.tick_params(axis=\"both\",which=\"major\",labelsize=13,direction=\"in\",pad=5)\n",
    "\n",
    "ax.set_title(r'kg-yr GaAs, Massless Mediator')\n",
    "\n",
    "ax.set_xlim([1e-2,1e3])\n",
    "ax.set_ylim([1e-47,1e-37])\n",
    "\n",
    "xtick_major = [pow(10.,n) for n in range(-2,4,1)]\n",
    "ytick_major = [pow(10.,n) for n in range(-47,-36,2)]\n",
    "ax.set_yticks(ytick_major)\n",
    "ax.set_xticks(xtick_major)\n",
    "\n",
    "ax.legend(loc=(0.03,0.01),fontsize=9,frameon=False,ncol=2,title='Threshold Energy')\n",
    "\n",
    "plt.savefig(plotdir+\"gaas_massless_multiphonon.pdf\",bbox_inches='tight')\n"
   ]
  },
  {
   "cell_type": "markdown",
   "metadata": {},
   "source": [
    "If starting with a new density of states, one must run the 'create_Fn_omega()' function. (see below.) This defaults to creating the Fn functions corresponding to the density of states (or list of partial density of states) loaded in in the instantiation of the class. This can take an hour or more. "
   ]
  },
  {
   "cell_type": "markdown",
   "metadata": {},
   "source": [
    "# Differential Rate $\\frac{dR}{d\\omega}$"
   ]
  },
  {
   "cell_type": "code",
   "execution_count": 6,
   "metadata": {},
   "outputs": [
    {
     "data": {
      "image/png": "[encoded data removed]",
      "text/plain": [
       "<Figure size 864x331.2 with 2 Axes>"
      ]
     },
     "metadata": {
      "needs_background": "light"
     },
     "output_type": "display_data"
    }
   ],
   "source": [
    "import seaborn as sns\n",
    "\n",
    "omegarange = np.linspace(1e-4, 200e-3, 2000)\n",
    "\n",
    "gaas.update_params(mX = 1e7, mMed = 1e9) # update the DM mass\n",
    "\n",
    "dr_domega1 = [gaas._dR_domega_multiphonons_no_single(omega) for omega in omegarange]\n",
    "\n",
    "gaas.update_params(mX = 1e8, mMed = 1e9) # update the DM mass\n",
    "\n",
    "dr_domega2 = [gaas._dR_domega_multiphonons_no_single(omega) for omega in omegarange]\n",
    "\n",
    "colors = sns.color_palette(\"husl\", 2)\n",
    "\n",
    "fig, (ax1, ax2) = plt.subplots(1, 2, figsize=(12, 4.6))\n",
    "\n",
    "ax1.plot(omegarange*1e3, dr_domega1, color=colors[0])\n",
    "ax2.plot(omegarange*1e3, dr_domega2, color=colors[1])\n",
    "\n",
    "\n",
    "ax1.set_xlabel(r'$\\omega \\ [\\mathrm{meV}]$',fontsize=15)\n",
    "ax2.set_xlabel(r'$\\omega \\ [\\mathrm{meV}]$',fontsize=15)\n",
    "ax1.set_ylabel(r'$\\frac{dR}{d\\omega} \\ [\\mathrm{Events}/\\mathrm{kg}/\\mathrm{yr}/\\mathrm{eV}]$',fontsize=15)\n",
    "\n",
    "\n",
    "ax1.set_title(r'$m_\\chi = 10$ MeV')\n",
    "ax2.set_title(r'$m_\\chi = 100$ MeV')\n",
    "\n",
    "ax1.set_xlim([0,200])\n",
    "ax2.set_xlim([0,200])\n",
    "\n",
    "ax1.set_ylim([0,4e8])\n",
    "ax2.set_ylim([0,2.5e7])\n",
    "\n",
    "\n",
    "xtick_major = [50*n for n in range(5)]\n",
    "ytick_major = [1e8*n for n in range(5)]\n",
    "ax1.set_yticks(ytick_major)\n",
    "\n",
    "ax1.set_xticks(xtick_major)\n",
    "ax2.set_xticks(xtick_major)\n",
    "\n",
    "ytick_major = [0.5e7*n for n in range(6)]\n",
    "ax2.set_yticks(ytick_major)\n",
    "\n",
    "plt.suptitle(r'GaAs Differential Rate, Massive Mediator, $\\sigma_n = 10^{-38} \\mathrm{cm}^2$', y=1.03)\n",
    "\n",
    "plt.savefig(plotdir+\"gaas_massive_rates.pdf\",bbox_inches='tight')"
   ]
  },
  {
   "cell_type": "code",
   "execution_count": 7,
   "metadata": {},
   "outputs": [
    {
     "name": "stdout",
     "output_type": "stream",
     "text": [
      "2034194.4744109595\n"
     ]
    }
   ],
   "source": [
    "npoints = 1000\n",
    "threshold=0.01\n",
    "sigman=1e-38\n",
    "omegarange = np.logspace(np.log10(threshold), np.log10((1/2)*gaas.mX*(gaas.vmax)**2), npoints)\n",
    "\n",
    "dr_domega = [gaas._dR_domega_multiphonons_no_single(omega, sigman=sigman, dark_photon=False) for omega in omegarange]\n",
    "print(np.trapz(dr_domega, omegarange))\n",
    "\n",
    "npoints = 10000\n",
    "threshold=0.01\n",
    "sigman=1e-38\n",
    "omegarange = np.logspace(np.log10(threshold), np.log10((1/2)*gaas.mX*(gaas.vmax)**2), npoints)\n",
    "\n",
    "dr_domega = [gaas._dR_domega_multiphonons_no_single(omega, sigman=sigman, dark_photon=False) for omega in omegarange]\n",
    "ethanres=np.trapz(dr_domega, omegarange)"
   ]
  },
  {
   "cell_type": "code",
   "execution_count": 8,
   "metadata": {},
   "outputs": [
    {
     "data": {
      "text/plain": [
       "2034544.4764394893"
      ]
     },
     "execution_count": 8,
     "metadata": {},
     "output_type": "execute_result"
    }
   ],
   "source": [
    "gaas.R_multiphonons_no_single(threshold=0.01,sigman=sigman, dark_photon=False)"
   ]
  },
  {
   "cell_type": "code",
   "execution_count": 9,
   "metadata": {},
   "outputs": [],
   "source": [
    "threshold=0.01\n",
    "sigman=1e-38\n",
    "\n",
    "def test_convergence(npoints):\n",
    "    omegarange = np.linspace(np.log10(threshold), 0.1, npoints)\n",
    "    dr_domega = [gaas._dR_domega_multiphonons_no_single(omega, sigman=sigman, dark_photon=False) for omega in omegarange]\n",
    "    intlow=np.trapz(dr_domega, omegarange)\n",
    "\n",
    "    omegarange = np.logspace(-1, np.log10((1/2)*gaas.mX*(gaas.vmax)**2), npoints)\n",
    "    dr_domega = [gaas._dR_domega_multiphonons_no_single(omega, sigman=sigman, dark_photon=False) for omega in omegarange]\n",
    "    inthigh=np.trapz(dr_domega, omegarange)\n",
    "\n",
    "    return intlow+inthigh\n",
    "\n",
    "nplist=[100,300,1000,2500,5000,7500,10000]\n",
    "convtest=list(map(test_convergence,nplist))"
   ]
  },
  {
   "cell_type": "markdown",
   "metadata": {},
   "source": [
    "# Custom Momentum-dependent coupling (Dark Photon)"
   ]
  },
  {
   "cell_type": "markdown",
   "metadata": {},
   "source": [
    "Here we calculate the cross-section for a rate of 3 events/kg/yr for a dark photon, using custom atomic couplings. In order to do this, the form factor must be loaded in at the instantiation of the class via 'fd_filename' (multiple filenames if multiple atoms) and the flag 'dark_photon' must be set to 'True' in function calls. Note that the default coupling without a custom coupling is the mass number.\n",
    "\n",
    "Our effective charge here is valid for processes dominated by large momenta (massive mediator or $\\geq2$-phonon calculations."
   ]
  },
  {
   "cell_type": "code",
   "execution_count": 10,
   "metadata": {},
   "outputs": [
    {
     "name": "stdout",
     "output_type": "stream",
     "text": [
      " .... Loading files for Si\n",
      "Loaded Si_gpaw_withLFE.dat for epsilon in electron regime\n",
      "electronic ELF taken or calculated from J. Enkovaara et al.,Electronic structure calculations with GPAW: a real-space implementation of the projector augmented-wave method,Journal of Physics:Condensed Matter22(2010) 253202.\n",
      "Warning! eps for phonon frequencies not loaded. Need to set phonon_filename to perform data-driven, single phonon calculations\n",
      "Zion(k) for Migdal calculation taken or calculated from: P. J. Brown, A. G. Fox, E. N. Maslen, M. A. OKeefe,and B. T. M. Willis, “Intensity of diffracted intensities,” in International Tables for Crystallography (American Cancer Society, 2006) Chap. 6.1, pp. 554–595, https://onlinelibrary.wiley.com/doi/pdf/10.1107/97809553602060000\n",
      "Loaded Si_atomic_Zion.dat for dark photon couplings\n",
      "Loaded Si_DoS.dat for density of states\n",
      "Loaded Fn(omega) functions corresponding to density of states in:  Si_DoS.dat\n",
      "Points 0 to 4 took 11.273770809173584 seconds to calculate\n",
      "Points 5 to 9 took 13.602016925811768 seconds to calculate\n",
      "Points 10 to 14 took 19.142487049102783 seconds to calculate\n",
      "Points 15 to 19 took 16.11030912399292 seconds to calculate\n"
     ]
    },
    {
     "data": {
      "image/png": "[encoded data removed]",
      "text/plain": [
       "<Figure size 432x288 with 1 Axes>"
      ]
     },
     "metadata": {
      "needs_background": "light"
     },
     "output_type": "display_data"
    }
   ],
   "source": [
    "import seaborn as sns\n",
    "\n",
    "# Loads dark photon form factor \n",
    "si = darkelf(target='Si',dos_filename=\"Si_DoS.dat\",\n",
    "             fd_filename='Si_atomic_Zion.dat')\n",
    "\n",
    "points = 20\n",
    "\n",
    "mdm = np.logspace(6, 9, points)\n",
    "\n",
    "(reaches1, reaches2, reaches3, reaches4) = (np.zeros(points),np.zeros(points),np.zeros(points),np.zeros(points))\n",
    "\n",
    "import time\n",
    "\n",
    "for i, mass in enumerate(mdm):\n",
    "    si.update_params(mX = mass, mMed = 1e10) # update the DM mass\n",
    "    if (i % 5) == 0:\n",
    "        start = time.time()\n",
    "    reaches1[i] = si.sigma_multiphonons(80e-3, dark_photon=True)\n",
    "    reaches2[i] = si.sigma_multiphonons(120e-3, dark_photon=True)\n",
    "    reaches3[i] = si.sigma_multiphonons(200e-3, dark_photon=True)\n",
    "    reaches4[i] = si.sigma_multiphonons(1000e-3, dark_photon=True)\n",
    "\n",
    "\n",
    "    if (i % 5) == 4:\n",
    "        end = time.time()\n",
    "        print(f'Points {i - 4} to {i} took {end - start} seconds to calculate')\n",
    "        # Just to check that everything is still working\n",
    "        \n",
    "colors = sns.color_palette(\"husl\", 4)\n",
    "\n",
    "fig, ax = plt.subplots()\n",
    "\n",
    "ax.plot(mdm/1e6, reaches1, label='$80$ meV', color=colors[0])\n",
    "ax.plot(mdm/1e6, reaches2, label='$120$ meV', color=colors[1])\n",
    "ax.plot(mdm/1e6, reaches3, label='$200$ meV', color=colors[2])\n",
    "ax.plot(mdm/1e6, reaches4, label='$1$ eV', color=colors[3])\n",
    "\n",
    "ax.set_xscale('log')\n",
    "ax.set_yscale('log')\n",
    "\n",
    "ax.set_xlim([1e0,1e3])\n",
    "ax.set_ylim([1e-43,1e-37])\n",
    "\n",
    "ax.set_xlabel('$m_\\chi \\ [\\mathrm{MeV}]$',fontsize=15)\n",
    "ax.set_ylabel('$\\sigma_p \\ [\\mathrm{cm}^2]$',fontsize=15)\n",
    "\n",
    "ax.tick_params(axis=\"both\",which=\"major\",labelsize=13,direction=\"in\",pad=5)\n",
    "\n",
    "xtick_major = [pow(10.,n) for n in range(0,4,1)]\n",
    "ytick_major = [pow(10.,n) for n in range(-43,-36,2)]\n",
    "ax.set_yticks(ytick_major)\n",
    "ax.set_xticks(xtick_major)\n",
    "\n",
    "ax.set_title(r'kg-yr Si, Massive Dark Photon')\n",
    "\n",
    "ax.legend(loc=(0.60,0.75),fontsize=8,frameon=False,ncol=2,title=\"Threshold Energy\",)\n",
    "\n",
    "plt.savefig(plotdir+\"si_massive_dark_photon.pdf\",bbox_inches='tight')\n"
   ]
  },
  {
   "cell_type": "markdown",
   "metadata": {},
   "source": [
    "## Using a user-supplied DOS table"
   ]
  },
  {
   "cell_type": "markdown",
   "metadata": {},
   "source": [
    "The user can update the pretabulated function with their own density of states, using the \"create_Fn_omega\" function. This is rather slow and should be avoided if possible. At the end of this process, a the output will be stored in as a look-up table in a new \"Fn\" file, for future usage. The name of the Fn files is based on the name of the DoS files. For example\n",
    "\n",
    "\n",
    "GaAs_DoS.dat --> GaAs_Fn.dat\n",
    "\n",
    "Ga_pDoS.dat --> Ga_Fn.dat\n",
    "\n",
    "As_pDoS.dat --> As_Fn.dat\n",
    " \n",
    "etc. In other words, if the user supplies their own density of states\n",
    "\n",
    "newfile_DoS.dat or newfile_pDoS.dat\n",
    "\n",
    "\"create_Fn_omega\" will produce respectively\n",
    "\n",
    "\"newfile_Fn.dat\" and \"newfile_Fn.dat\". \n",
    "\n",
    "It is important that the filenames of all user-supplied DOS or partial DOS files ends with \"_DoS.dat\" or \"_pDoS.dat\" respectively. When running the code, it suffices to specify the desired DOS file(s) with the \"dos_filename\" flag in the constructor. DarkELF will then automatically load in the corresponding Fn-tables, or calculate them if needed.  "
   ]
  },
  {
   "cell_type": "code",
   "execution_count": 11,
   "metadata": {},
   "outputs": [
    {
     "name": "stdout",
     "output_type": "stream",
     "text": [
      "Finished point #50 out of 750 for 2 phonons\n",
      "Finished point #100 out of 750 for 2 phonons\n"
     ]
    },
    {
     "ename": "KeyboardInterrupt",
     "evalue": "",
     "output_type": "error",
     "traceback": [
      "\u001b[0;31m---------------------------------------------------------------------------\u001b[0m",
      "\u001b[0;31mKeyboardInterrupt\u001b[0m                         Traceback (most recent call last)",
      "Input \u001b[0;32mIn [11]\u001b[0m, in \u001b[0;36m<cell line: 1>\u001b[0;34m()\u001b[0m\n\u001b[0;32m----> 1\u001b[0m \u001b[43mgaas\u001b[49m\u001b[38;5;241;43m.\u001b[39;49m\u001b[43mcreate_Fn_omega\u001b[49m\u001b[43m(\u001b[49m\u001b[43mnpoints\u001b[49m\u001b[38;5;241;43m=\u001b[39;49m\u001b[38;5;241;43m750\u001b[39;49m\u001b[43m)\u001b[49m\n",
      "File \u001b[0;32m~/Documents/GitHub/DarkELF/examples/../darkelf/fnomega.py:89\u001b[0m, in \u001b[0;36mcreate_Fn_omega\u001b[0;34m(self, datadir, dos_filename, phonons, npoints)\u001b[0m\n\u001b[1;32m     87\u001b[0m narray \u001b[38;5;241m=\u001b[39m np\u001b[38;5;241m.\u001b[39marray([])\n\u001b[1;32m     88\u001b[0m \u001b[38;5;28;01mfor\u001b[39;00m i, omega \u001b[38;5;129;01min\u001b[39;00m \u001b[38;5;28menumerate\u001b[39m(omegarange):\n\u001b[0;32m---> 89\u001b[0m     narray \u001b[38;5;241m=\u001b[39m np\u001b[38;5;241m.\u001b[39mappend(narray, \u001b[38;5;28;43mself\u001b[39;49m\u001b[38;5;241;43m.\u001b[39;49m\u001b[43mFn_vegas\u001b[49m\u001b[43m(\u001b[49m\u001b[43momega\u001b[49m\u001b[43m,\u001b[49m\u001b[43m \u001b[49m\u001b[43mn\u001b[49m\u001b[43m \u001b[49m\u001b[38;5;241;43m+\u001b[39;49m\u001b[43m \u001b[49m\u001b[38;5;241;43m1\u001b[39;49m\u001b[43m,\u001b[49m\u001b[43m \u001b[49m\u001b[43matom\u001b[49m\u001b[43m)\u001b[49m)\n\u001b[1;32m     90\u001b[0m     \u001b[38;5;28;01mif\u001b[39;00m n \u001b[38;5;241m>\u001b[39m \u001b[38;5;241m0\u001b[39m \u001b[38;5;129;01mand\u001b[39;00m ((i\u001b[38;5;241m+\u001b[39m\u001b[38;5;241m1\u001b[39m) \u001b[38;5;241m%\u001b[39m \u001b[38;5;241m50\u001b[39m \u001b[38;5;241m==\u001b[39m \u001b[38;5;241m0\u001b[39m):\n\u001b[1;32m     91\u001b[0m         \u001b[38;5;28mprint\u001b[39m(\u001b[38;5;124mf\u001b[39m\u001b[38;5;124m'\u001b[39m\u001b[38;5;124mFinished point #\u001b[39m\u001b[38;5;132;01m{\u001b[39;00mi \u001b[38;5;241m+\u001b[39m \u001b[38;5;241m1\u001b[39m\u001b[38;5;132;01m}\u001b[39;00m\u001b[38;5;124m out of \u001b[39m\u001b[38;5;132;01m{\u001b[39;00mnpoints\u001b[38;5;132;01m}\u001b[39;00m\u001b[38;5;124m for \u001b[39m\u001b[38;5;132;01m{\u001b[39;00mn \u001b[38;5;241m+\u001b[39m \u001b[38;5;241m1\u001b[39m\u001b[38;5;132;01m}\u001b[39;00m\u001b[38;5;124m phonons\u001b[39m\u001b[38;5;124m'\u001b[39m)\n",
      "File \u001b[0;32m~/Documents/GitHub/DarkELF/examples/../darkelf/fnomega.py:150\u001b[0m, in \u001b[0;36mFn_vegas\u001b[0;34m(self, omega, n, atom)\u001b[0m\n\u001b[1;32m    148\u001b[0m integ(\u001b[38;5;28mself\u001b[39m\u001b[38;5;241m.\u001b[39mFn_integrand(omega\u001b[38;5;241m=\u001b[39momega, n\u001b[38;5;241m=\u001b[39mn, atom\u001b[38;5;241m=\u001b[39matom), nitn\u001b[38;5;241m=\u001b[39m\u001b[38;5;241m10\u001b[39m, neval\u001b[38;5;241m=\u001b[39m\u001b[38;5;241m1000\u001b[39m)\n\u001b[1;32m    149\u001b[0m \u001b[38;5;66;03m# Keep these results after adaptation\u001b[39;00m\n\u001b[0;32m--> 150\u001b[0m result \u001b[38;5;241m=\u001b[39m \u001b[43minteg\u001b[49m\u001b[43m(\u001b[49m\u001b[38;5;28;43mself\u001b[39;49m\u001b[38;5;241;43m.\u001b[39;49m\u001b[43mFn_integrand\u001b[49m\u001b[43m(\u001b[49m\u001b[43momega\u001b[49m\u001b[38;5;241;43m=\u001b[39;49m\u001b[43momega\u001b[49m\u001b[43m,\u001b[49m\u001b[43m \u001b[49m\u001b[43mn\u001b[49m\u001b[38;5;241;43m=\u001b[39;49m\u001b[43mn\u001b[49m\u001b[43m,\u001b[49m\u001b[43m \u001b[49m\u001b[43matom\u001b[49m\u001b[38;5;241;43m=\u001b[39;49m\u001b[43matom\u001b[49m\u001b[43m)\u001b[49m\u001b[43m,\u001b[49m\u001b[43m \u001b[49m\u001b[43mnitn\u001b[49m\u001b[38;5;241;43m=\u001b[39;49m\u001b[38;5;241;43m10\u001b[39;49m\u001b[43m,\u001b[49m\u001b[43m \u001b[49m\u001b[43mneval\u001b[49m\u001b[38;5;241;43m=\u001b[39;49m\u001b[38;5;241;43m1000\u001b[39;49m\u001b[43m)\u001b[49m\n\u001b[1;32m    151\u001b[0m \u001b[38;5;66;03m# print(result.summary())\u001b[39;00m\n\u001b[1;32m    152\u001b[0m \u001b[38;5;28;01mreturn\u001b[39;00m gvar\u001b[38;5;241m.\u001b[39mmean(result)\u001b[38;5;241m/\u001b[39mfactorial(n)\n",
      "File \u001b[0;32m_vegas.pyx:1670\u001b[0m, in \u001b[0;36mvegas._vegas.Integrator.__call__\u001b[0;34m()\u001b[0m\n",
      "File \u001b[0;32m_vegas.pyx:2461\u001b[0m, in \u001b[0;36mvegas._vegas._BatchIntegrand_from_NonBatch.__call__\u001b[0;34m()\u001b[0m\n",
      "File \u001b[0;32m~/Documents/GitHub/DarkELF/examples/../darkelf/fnomega.py:124\u001b[0m, in \u001b[0;36mFn_integrand.<locals>.DoSintegrand\u001b[0;34m(omegaivec)\u001b[0m\n\u001b[1;32m    122\u001b[0m omegaj \u001b[38;5;241m=\u001b[39m omega \u001b[38;5;241m-\u001b[39m (np\u001b[38;5;241m.\u001b[39msum(omegaivec))\n\u001b[1;32m    123\u001b[0m \u001b[38;5;28;01mif\u001b[39;00m omegaminus \u001b[38;5;241m<\u001b[39m omegaj \u001b[38;5;241m<\u001b[39m omegaplus:\n\u001b[0;32m--> 124\u001b[0m     result \u001b[38;5;241m=\u001b[39m \u001b[38;5;28;43mself\u001b[39;49m\u001b[38;5;241;43m.\u001b[39;49m\u001b[43mDoS_interp\u001b[49m\u001b[43m[\u001b[49m\u001b[43matom\u001b[49m\u001b[43m]\u001b[49m\u001b[43m(\u001b[49m\u001b[43momegaj\u001b[49m\u001b[43m)\u001b[49m\u001b[38;5;241m/\u001b[39m(omegaj)\n\u001b[1;32m    125\u001b[0m     \u001b[38;5;28;01mfor\u001b[39;00m omegai \u001b[38;5;129;01min\u001b[39;00m omegaivec:\n\u001b[1;32m    126\u001b[0m         result \u001b[38;5;241m*\u001b[39m\u001b[38;5;241m=\u001b[39m \u001b[38;5;28mself\u001b[39m\u001b[38;5;241m.\u001b[39mDoS_interp[atom](omegai)\u001b[38;5;241m/\u001b[39momegai\n",
      "File \u001b[0;32m~/Library/Python/3.8/lib/python/site-packages/scipy/interpolate/_polyint.py:78\u001b[0m, in \u001b[0;36m_Interpolator1D.__call__\u001b[0;34m(self, x)\u001b[0m\n\u001b[1;32m     57\u001b[0m \u001b[38;5;124;03m\"\"\"\u001b[39;00m\n\u001b[1;32m     58\u001b[0m \u001b[38;5;124;03mEvaluate the interpolant\u001b[39;00m\n\u001b[1;32m     59\u001b[0m \n\u001b[0;32m   (...)\u001b[0m\n\u001b[1;32m     75\u001b[0m \n\u001b[1;32m     76\u001b[0m \u001b[38;5;124;03m\"\"\"\u001b[39;00m\n\u001b[1;32m     77\u001b[0m x, x_shape \u001b[38;5;241m=\u001b[39m \u001b[38;5;28mself\u001b[39m\u001b[38;5;241m.\u001b[39m_prepare_x(x)\n\u001b[0;32m---> 78\u001b[0m y \u001b[38;5;241m=\u001b[39m \u001b[38;5;28;43mself\u001b[39;49m\u001b[38;5;241;43m.\u001b[39;49m\u001b[43m_evaluate\u001b[49m\u001b[43m(\u001b[49m\u001b[43mx\u001b[49m\u001b[43m)\u001b[49m\n\u001b[1;32m     79\u001b[0m \u001b[38;5;28;01mreturn\u001b[39;00m \u001b[38;5;28mself\u001b[39m\u001b[38;5;241m.\u001b[39m_finish_y(y, x_shape)\n",
      "File \u001b[0;32m~/Library/Python/3.8/lib/python/site-packages/scipy/interpolate/_interpolate.py:695\u001b[0m, in \u001b[0;36minterp1d._evaluate\u001b[0;34m(self, x_new)\u001b[0m\n\u001b[1;32m    693\u001b[0m y_new \u001b[38;5;241m=\u001b[39m \u001b[38;5;28mself\u001b[39m\u001b[38;5;241m.\u001b[39m_call(\u001b[38;5;28mself\u001b[39m, x_new)\n\u001b[1;32m    694\u001b[0m \u001b[38;5;28;01mif\u001b[39;00m \u001b[38;5;129;01mnot\u001b[39;00m \u001b[38;5;28mself\u001b[39m\u001b[38;5;241m.\u001b[39m_extrapolate:\n\u001b[0;32m--> 695\u001b[0m     below_bounds, above_bounds \u001b[38;5;241m=\u001b[39m \u001b[38;5;28;43mself\u001b[39;49m\u001b[38;5;241;43m.\u001b[39;49m\u001b[43m_check_bounds\u001b[49m\u001b[43m(\u001b[49m\u001b[43mx_new\u001b[49m\u001b[43m)\u001b[49m\n\u001b[1;32m    696\u001b[0m     \u001b[38;5;28;01mif\u001b[39;00m \u001b[38;5;28mlen\u001b[39m(y_new) \u001b[38;5;241m>\u001b[39m \u001b[38;5;241m0\u001b[39m:\n\u001b[1;32m    697\u001b[0m         \u001b[38;5;66;03m# Note fill_value must be broadcast up to the proper size\u001b[39;00m\n\u001b[1;32m    698\u001b[0m         \u001b[38;5;66;03m# and flattened to work here\u001b[39;00m\n\u001b[1;32m    699\u001b[0m         y_new[below_bounds] \u001b[38;5;241m=\u001b[39m \u001b[38;5;28mself\u001b[39m\u001b[38;5;241m.\u001b[39m_fill_value_below\n",
      "File \u001b[0;32m~/Library/Python/3.8/lib/python/site-packages/scipy/interpolate/_interpolate.py:719\u001b[0m, in \u001b[0;36minterp1d._check_bounds\u001b[0;34m(self, x_new)\u001b[0m\n\u001b[1;32m    704\u001b[0m \u001b[38;5;124;03m\"\"\"Check the inputs for being in the bounds of the interpolated data.\u001b[39;00m\n\u001b[1;32m    705\u001b[0m \n\u001b[1;32m    706\u001b[0m \u001b[38;5;124;03mParameters\u001b[39;00m\n\u001b[0;32m   (...)\u001b[0m\n\u001b[1;32m    713\u001b[0m \u001b[38;5;124;03m    The mask on x_new of values that are out of the bounds.\u001b[39;00m\n\u001b[1;32m    714\u001b[0m \u001b[38;5;124;03m\"\"\"\u001b[39;00m\n\u001b[1;32m    716\u001b[0m \u001b[38;5;66;03m# If self.bounds_error is True, we raise an error if any x_new values\u001b[39;00m\n\u001b[1;32m    717\u001b[0m \u001b[38;5;66;03m# fall outside the range of x. Otherwise, we return an array indicating\u001b[39;00m\n\u001b[1;32m    718\u001b[0m \u001b[38;5;66;03m# which values are outside the boundary region.\u001b[39;00m\n\u001b[0;32m--> 719\u001b[0m below_bounds \u001b[38;5;241m=\u001b[39m \u001b[43mx_new\u001b[49m\u001b[43m \u001b[49m\u001b[38;5;241;43m<\u001b[39;49m\u001b[43m \u001b[49m\u001b[38;5;28;43mself\u001b[39;49m\u001b[38;5;241;43m.\u001b[39;49m\u001b[43mx\u001b[49m\u001b[43m[\u001b[49m\u001b[38;5;241;43m0\u001b[39;49m\u001b[43m]\u001b[49m\n\u001b[1;32m    720\u001b[0m above_bounds \u001b[38;5;241m=\u001b[39m x_new \u001b[38;5;241m>\u001b[39m \u001b[38;5;28mself\u001b[39m\u001b[38;5;241m.\u001b[39mx[\u001b[38;5;241m-\u001b[39m\u001b[38;5;241m1\u001b[39m]\n\u001b[1;32m    722\u001b[0m \u001b[38;5;66;03m# !! Could provide more information about which values are out of bounds\u001b[39;00m\n",
      "\u001b[0;31mKeyboardInterrupt\u001b[0m: "
     ]
    }
   ],
   "source": [
    "gaas.create_Fn_omega(npoints=750)"
   ]
  },
  {
   "cell_type": "code",
   "execution_count": null,
   "metadata": {},
   "outputs": [],
   "source": []
  },
  {
   "cell_type": "code",
   "execution_count": null,
   "metadata": {},
   "outputs": [],
   "source": []
  }
 ],
 "metadata": {
  "kernelspec": {
   "display_name": "Python 3 (ipykernel)",
   "language": "python",
   "name": "python3"
  },
  "language_info": {
   "codemirror_mode": {
    "name": "ipython",
    "version": 3
   },
   "file_extension": ".py",
   "mimetype": "text/x-python",
   "name": "python",
   "nbconvert_exporter": "python",
   "pygments_lexer": "ipython3",
   "version": "3.8.9"
  }
 },
 "nbformat": 4,
 "nbformat_minor": 4
}

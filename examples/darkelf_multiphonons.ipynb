{
 "cells": [
  {
   "cell_type": "markdown",
   "metadata": {},
   "source": [
    "# DarkELF multiphonon notebook"
   ]
  },
  {
   "cell_type": "markdown",
   "metadata": {},
   "source": [
    "This notebook is meant to illustrate the part of the darkELF package for calculating dark matter-phonon rates in the multiphonon regime.\n",
    "\n",
    "written by Ethan, updated 02/08/2021"
   ]
  },
  {
   "cell_type": "code",
   "execution_count": 1,
   "metadata": {},
   "outputs": [],
   "source": [
    "%matplotlib inline\n",
    "\n",
    "import sys, os\n",
    "import numpy as np\n",
    "from numpy import pi\n",
    "import matplotlib.pyplot as plt\n",
    "import matplotlib.ticker\n",
    "from matplotlib import rc, rcParams\n",
    "import matplotlib.cm as cm\n",
    "from mpl_toolkits.axes_grid1 import make_axes_locatable\n",
    "import time\n",
    "import pandas\n",
    "from scipy import interpolate\n",
    "\n",
    "# Make use of TeX\\ufeff\n",
    "rc('text',usetex=True)\n",
    "# Change all fonts to 'Computer Modern'\n",
    "rc('font',**{'size':14, 'family':'serif','serif':['Times New Roman']})\n",
    "rc('xtick.major', size=5, pad=7)\n",
    "rc('xtick', labelsize=15)\n",
    "rc('ytick.major', size=5, pad=7)\n",
    "rc('ytick', labelsize=15)\n",
    "\n",
    "# this needs to point to the folder where darkelf.py is stored\n",
    "work_dir = os.getcwd()\n",
    "sys.path.append(work_dir+\"/..\")\n",
    "plotdir=work_dir+\"/plots/\"\n",
    "\n",
    "# load the package\n",
    "from darkelf import darkelf, targets"
   ]
  },
  {
   "cell_type": "markdown",
   "metadata": {},
   "source": [
    "## Load the materials"
   ]
  },
  {
   "cell_type": "markdown",
   "metadata": {},
   "source": [
    "When loading the materials, the \"dos_filename\" flag must be set in order to calculate rates in the multiphonon regime. The \"target_yaml\" flag is set automatically and can be overridden. Auxiliary functions \"Fn\" are pre-tabulated corresponding to the given density of states files and loaded in by default. If using another density of states, one must first run the \"create_Fn_omega()\" function on the desired density of states."
   ]
  },
  {
   "cell_type": "code",
   "execution_count": 2,
   "metadata": {},
   "outputs": [
    {
     "name": "stdout",
     "output_type": "stream",
     "text": [
      "Available configuration files: \n",
      "\t Si.yaml\n",
      " \n",
      "Available data for epsilon: \n",
      "\t Si_Migdal_FAC.dat\n",
      "\t Si_atomic_Z_eps_form_factor.dat\n",
      "\t Si_mermin.dat\n",
      "\t Si_gpaw_noLFE.dat\n",
      "\t Si_gpaw_withLFE.dat\n",
      "\t Si_epsphonon_theory6K.dat\n",
      "\t Si_epsphonon_data6K.dat\n",
      "\t Si_Zion.dat\n",
      " \n",
      "Available data for phonon density of states: \n",
      "\t Si_DoS.dat\n",
      " \n",
      "Available data for Fn(omega) functions: \n",
      "\t Si_Fn.dat\n",
      " \n",
      "Available data for form factors: \n",
      "\t Si_atomic_Z_eps_form_factor.dat\n"
     ]
    }
   ],
   "source": [
    "targets.files('Si')\n"
   ]
  },
  {
   "cell_type": "markdown",
   "metadata": {},
   "source": [
    "If one is only interested in the multiphonon response, the electronic response specified with the \"filename\" flag is not used. If it is not specified, the code will produce a warning message, as seen below. There's also an optional form_factor_filename if one is interested in using a custom DM-atomic form factor. These can be ignored as long as we only care about DM-multiphonon scattering. Let's load a few materials."
   ]
  },
  {
   "cell_type": "code",
   "execution_count": 2,
   "metadata": {},
   "outputs": [
    {
     "name": "stdout",
     "output_type": "stream",
     "text": [
      " .... Loading files for GaAs\n",
      "Warning! Epsilon grid in electron regime does not exist.\n",
      "Warning! eps for phonon frequencies not loaded. Need to set phonon_filename \n",
      "Warning! Atomic Migdal calculation not present\n",
      "Loaded GaAs_DoS.dat for density of states\n",
      "Loaded Fn(omega) functions corresponding to density of states in:  GaAs_DoS.dat\n",
      "Warning! Form factor not loaded. Need to set form_factor_filename if needed. Otherwise defaults to massive mediator \n",
      " .... Loading files for Si\n",
      "Warning! Epsilon grid in electron regime does not exist.\n",
      "Warning! eps for phonon frequencies not loaded. Need to set phonon_filename \n",
      "Loaded Si_DoS.dat for density of states\n",
      "Loaded Fn(omega) functions corresponding to density of states in:  Si_DoS.dat\n",
      "Warning! Form factor not loaded. Need to set form_factor_filename if needed. Otherwise defaults to massive mediator \n",
      " .... Loading files for C\n",
      "Warning! Epsilon grid in electron regime does not exist.\n",
      "Warning! eps for phonon frequencies not loaded. Need to set phonon_filename \n",
      "Loaded C_DoS.dat for density of states\n",
      "Loaded Fn(omega) functions corresponding to density of states in:  C_DoS.dat\n",
      "Warning! Form factor not loaded. Need to set form_factor_filename if needed. Otherwise defaults to massive mediator \n"
     ]
    }
   ],
   "source": [
    "gaas = darkelf(target='GaAs',dos_filename=\"GaAs_DoS.dat\")\n",
    "si = darkelf(target='Si',dos_filename=\"Si_DoS.dat\")\n",
    "c = darkelf(target='C',dos_filename=\"C_DoS.dat\")"
   ]
  },
  {
   "cell_type": "markdown",
   "metadata": {},
   "source": [
    "# Cross section plots"
   ]
  },
  {
   "cell_type": "markdown",
   "metadata": {},
   "source": [
    "Now using the sigma_nucleon function to calculate the required DM-nucleon cross-section for a rate of 3 events/kg/yr"
   ]
  },
  {
   "cell_type": "code",
   "execution_count": 3,
   "metadata": {},
   "outputs": [
    {
     "name": "stdout",
     "output_type": "stream",
     "text": [
      "Points 0 to 4 took 35.79014611244202 seconds to calculate\n",
      "Points 5 to 9 took 119.16215825080872 seconds to calculate\n",
      "Points 10 to 14 took 159.65577602386475 seconds to calculate\n",
      "Points 15 to 19 took 149.70884609222412 seconds to calculate\n"
     ]
    },
    {
     "data": {
      "image/png": "[encoded data removed]",
      "text/plain": [
       "<Figure size 432x288 with 1 Axes>"
      ]
     },
     "metadata": {
      "needs_background": "light"
     },
     "output_type": "display_data"
    }
   ],
   "source": [
    "import seaborn as sns\n",
    "\n",
    "points = 20\n",
    "\n",
    "mdm = np.logspace(4, 9, points)\n",
    "\n",
    "reaches1 = np.zeros(points)\n",
    "reaches2 = np.zeros(points)\n",
    "reaches3 = np.zeros(points)\n",
    "\n",
    "import time\n",
    "\n",
    "for i, mass in enumerate(mdm):\n",
    "    gaas.update_params(mX = mass, mMed = 0) # update the DM mass\n",
    "    if (i % 5) == 0:\n",
    "        start = time.time()\n",
    "    reaches1[i] = gaas.sigma_multiphonons(1e-3)\n",
    "    reaches2[i] = gaas.sigma_multiphonons(1e-1)\n",
    "    reaches3[i] = gaas.sigma_multiphonons(1)\n",
    "\n",
    "    if (i % 5) == 4:\n",
    "        end = time.time()\n",
    "        print(f'Points {i - 4} to {i} took {end - start} seconds to calculate')\n",
    "        # Just to check that everything is still working\n",
    "        \n",
    "colors = sns.color_palette(\"husl\", 3)\n",
    "\n",
    "fig, ax = plt.subplots()\n",
    "\n",
    "\n",
    "ax.plot(mdm/1e6, reaches1, label='$1$ meV', color=colors[0])\n",
    "ax.plot(mdm/1e6, reaches2, label='$100$ meV', color=colors[1])\n",
    "ax.plot(mdm/1e6, reaches3, label='$1$ eV', color=colors[2])\n",
    "\n",
    "\n",
    "ax.set_xscale('log')\n",
    "ax.set_yscale('log')\n",
    "\n",
    "ax.set_xlabel('$m_\\chi \\ [\\mathrm{MeV}]$',fontsize=15)\n",
    "ax.set_ylabel('$\\sigma_n \\ [\\mathrm{cm}^2]$',fontsize=15)\n",
    "\n",
    "ax.tick_params(axis=\"both\",which=\"major\",labelsize=13,direction=\"in\",pad=5)\n",
    "\n",
    "ax.set_title(r'kg-yr GaAs, Massless Mediator')\n",
    "\n",
    "ax.set_xlim([1e-2,1e3])\n",
    "ax.set_ylim([1e-47,1e-37])\n",
    "\n",
    "xtick_major = [pow(10.,n) for n in range(-2,4,1)]\n",
    "ytick_major = [pow(10.,n) for n in range(-47,-36,2)]\n",
    "ax.set_yticks(ytick_major)\n",
    "ax.set_xticks(xtick_major)\n",
    "\n",
    "ax.legend(loc=(0.03,0.01),fontsize=9,frameon=False,ncol=2,title='Threshold Energy')\n",
    "\n",
    "plt.savefig(plotdir+\"gaas_massless_multiphonon.pdf\",bbox_inches='tight')\n"
   ]
  },
  {
   "cell_type": "code",
   "execution_count": null,
   "metadata": {},
   "outputs": [],
   "source": []
  }
 ],
 "metadata": {
  "kernelspec": {
   "display_name": "Python 3",
   "language": "python",
   "name": "python3"
  },
  "language_info": {
   "codemirror_mode": {
    "name": "ipython",
    "version": 3
   },
   "file_extension": ".py",
   "mimetype": "text/x-python",
   "name": "python",
   "nbconvert_exporter": "python",
   "pygments_lexer": "ipython3",
   "version": "3.9.0"
  }
 },
 "nbformat": 4,
 "nbformat_minor": 4
}

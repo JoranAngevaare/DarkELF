{
 "cells": [
  {
   "cell_type": "markdown",
   "metadata": {},
   "source": [
    "# DarkELF multiphonon notebook"
   ]
  },
  {
   "cell_type": "markdown",
   "metadata": {},
   "source": [
    "This notebook is meant to illustrate the part of the darkELF package for calculating dark matter-phonon rates in the multiphonon regime.\n",
    "\n",
    "written by Ethan, 01/23/2021"
   ]
  },
  {
   "cell_type": "code",
   "execution_count": 1,
   "metadata": {},
   "outputs": [],
   "source": [
    "%matplotlib inline\n",
    "\n",
    "import sys, os\n",
    "import numpy as np\n",
    "from numpy import pi\n",
    "import matplotlib.pyplot as plt\n",
    "import matplotlib.ticker\n",
    "from matplotlib import rc, rcParams\n",
    "import matplotlib.cm as cm\n",
    "from mpl_toolkits.axes_grid1 import make_axes_locatable\n",
    "import time\n",
    "import pandas\n",
    "from scipy import interpolate\n",
    "\n",
    "# Make use of TeX\\ufeff\n",
    "rc('text',usetex=True)\n",
    "# Change all fonts to 'Computer Modern'\n",
    "rc('font',**{'size':14, 'family':'serif','serif':['Times New Roman']})\n",
    "rc('xtick.major', size=5, pad=7)\n",
    "rc('xtick', labelsize=15)\n",
    "rc('ytick.major', size=5, pad=7)\n",
    "rc('ytick', labelsize=15)\n",
    "\n",
    "# this needs to point to the folder where darkelf.py is stored\n",
    "work_dir = os.getcwd()\n",
    "sys.path.append(work_dir+\"/..\")\n",
    "plotdir=work_dir+\"/plots/\"\n",
    "\n",
    "# load the package\n",
    "from darkelf import darkelf, targets"
   ]
  },
  {
   "cell_type": "markdown",
   "metadata": {},
   "source": [
    "## Load the materials"
   ]
  },
  {
   "cell_type": "markdown",
   "metadata": {},
   "source": [
    "When loading the materials, the \"dos_filename\" flag must be set in order to calculate rates in the multiphonon regime. The \"target_yaml\" flag is set automatically and can be overridden. Auxiliary functions \"Fn\" are pre-tabulated corresponding to the given density of states files and loaded in by default. If using another density of states, one must first run the \"create_Fn_omega()\" function on the desired density of states."
   ]
  },
  {
   "cell_type": "code",
   "execution_count": 2,
   "metadata": {},
   "outputs": [
    {
     "name": "stdout",
     "output_type": "stream",
     "text": [
      "Available configuration files: \n",
      "\t GaAs.yaml\n",
      " \n",
      "Available data for epsilon: \n",
      "\t GaAs_mermin.dat\n",
      "\t GaAs_epsphonon_data10K.dat\n",
      " \n",
      "Available data for phonon density of states: \n",
      "\t GaAs_DoS.dat\n",
      " \n",
      "Available data for Fn(omega) functions: \n",
      "\t GaAs_Fn.dat\n"
     ]
    }
   ],
   "source": [
    "targets.files('GaAs')\n"
   ]
  },
  {
   "cell_type": "markdown",
   "metadata": {},
   "source": [
    "If one is only interested in the multiphonon response, the electronic response specified with the \"filename\" flag is not used. If it is not specified, the code will produce a warning message, as seen below. This can be ignored as long as we only care about DM-multiphonon scattering. Let's load a few materials."
   ]
  },
  {
   "cell_type": "code",
   "execution_count": 3,
   "metadata": {},
   "outputs": [
    {
     "name": "stdout",
     "output_type": "stream",
     "text": [
      " .... Loading files for GaAs\n",
      "Warning! Epsilon grid in electron regime does not exist.\n",
      "Warning! eps for phonon frequencies not loaded. Need to set phonon_filename \n",
      "Warning! Atomic Migdal calculation not present\n",
      "Loaded GaAs_DoS.dat for density of states\n",
      "Loaded Fn(omega) functions corresponding to density of states in:  GaAs_DoS.dat\n",
      " .... Loading files for Si\n",
      "Warning! Epsilon grid in electron regime does not exist.\n",
      "Warning! eps for phonon frequencies not loaded. Need to set phonon_filename \n",
      "Loaded Si_DoS.dat for density of states\n",
      "Loaded Fn(omega) functions corresponding to density of states in:  Si_DoS.dat\n",
      " .... Loading files for C\n",
      "Warning! Epsilon grid in electron regime does not exist.\n",
      "Warning! eps for phonon frequencies not loaded. Need to set phonon_filename \n",
      "Loaded C_DoS.dat for density of states\n",
      "Loaded Fn(omega) functions corresponding to density of states in:  C_DoS.dat\n"
     ]
    }
   ],
   "source": [
    "gaas = darkelf(target='GaAs',dos_filename=\"GaAs_DoS.dat\")\n",
    "si = darkelf(target='Si',dos_filename=\"Si_DoS.dat\")\n",
    "c = darkelf(target='C',dos_filename=\"C_DoS.dat\")"
   ]
  },
  {
   "cell_type": "markdown",
   "metadata": {},
   "source": [
    "# Cross section plots"
   ]
  },
  {
   "cell_type": "markdown",
   "metadata": {},
   "source": [
    "Now using the sigma_nucleon function to calculate the required reaches for a rate of 3 events/kg/yr, the larger dark matter mass points take longer to calculate since the integral over the allowed phase space is larger and requires more numerically intensive integrations."
   ]
  },
  {
   "cell_type": "code",
   "execution_count": 4,
   "metadata": {},
   "outputs": [
    {
     "name": "stdout",
     "output_type": "stream",
     "text": [
      "Points 0 to 4 took 0.23364996910095215 seconds to calculate\n",
      "Points 5 to 9 took 0.48093199729919434 seconds to calculate\n",
      "Points 10 to 14 took 5.970164775848389 seconds to calculate\n",
      "Points 15 to 19 took 7.025084972381592 seconds to calculate\n",
      "Points 20 to 24 took 18.045959949493408 seconds to calculate\n",
      "Points 25 to 29 took 20.609495878219604 seconds to calculate\n"
     ]
    },
    {
     "data": {
      "image/png": "[encoded data removed]",
      "text/plain": [
       "<Figure size 432x288 with 1 Axes>"
      ]
     },
     "metadata": {
      "needs_background": "light"
     },
     "output_type": "display_data"
    }
   ],
   "source": [
    "points = 30 \n",
    "\n",
    "mdm = np.logspace(4, 9, points)\n",
    "\n",
    "reaches1 = np.zeros(points)\n",
    "reaches2 = np.zeros(points)\n",
    "reaches3 = np.zeros(points)\n",
    "\n",
    "import time\n",
    "\n",
    "for i, mass in enumerate(mdm):\n",
    "    start = time.time()\n",
    "    reaches1[i] = gaas.sigma_nucleon(mass, 1e-3, mediator='massive')\n",
    "    reaches2[i] = gaas.sigma_nucleon(mass, 6e-2, mediator='massive')\n",
    "    reaches3[i] = gaas.sigma_nucleon(mass, 1e-1, mediator='massive')\n",
    "    end = time.time()\n",
    "    if (i % 5) == 4:\n",
    "        print(f'Points {i - 4} to {i} took {end - start} seconds to calculate')\n",
    "        # Just to check that everything is still working, the last points\n",
    "        # take the longest\n",
    "        \n",
    "fig, ax = plt.subplots()\n",
    "\n",
    "cmap = plt.get_cmap('tab10')\n",
    "colors = cmap(np.linspace(0.0,1.0,10))\n",
    "\n",
    "ax.plot(mdm/1e3, reaches1, label='$\\omega_\\mathrm{th} = 1$ meV', color=colors[0])\n",
    "ax.plot(mdm/1e3, reaches2, label='$\\omega_\\mathrm{th} = 60$ meV', color=colors[1])\n",
    "ax.plot(mdm/1e3, reaches3, label='$\\omega_\\mathrm{th} = 100$ meV', color=colors[2])\n",
    "\n",
    "ax.set_xscale('log')\n",
    "ax.set_yscale('log')\n",
    "\n",
    "ax.set_xlabel('$m_\\chi \\ (\\mathrm{keV})$')\n",
    "ax.set_ylabel('$\\sigma \\ (\\mathrm{cm}^2)$')\n",
    "\n",
    "ax.tick_params(axis=\"both\",which=\"major\",labelsize=13,direction=\"in\",pad=5)\n",
    "\n",
    "ax.set_title(r'GaAs Reaches, Massive Mediator')\n",
    "\n",
    "ax.set_xlim([1e1,1e6])\n",
    "ax.set_ylim([1e-47,1e-37])\n",
    "\n",
    "xtick_major = [pow(10.,n) for n in range(1,7,1)]\n",
    "ytick_major = [pow(10.,n) for n in range(-47,-36,2)]\n",
    "ax.set_yticks(ytick_major)\n",
    "ax.set_xticks(xtick_major)\n",
    "\n",
    "ax.legend(loc=(0.03,0.01),fontsize=9,frameon=False,ncol=1)\n",
    "\n",
    "plt.savefig(plotdir+\"gaas_massive_multiphonon.pdf\",bbox_inches='tight')"
   ]
  },
  {
   "cell_type": "markdown",
   "metadata": {},
   "source": [
    "If starting with a new density of states, one must run the create_Fn_omega() function. This defaults to creating the Fn functions corresponding to the density of states loaded in in the instantiation of the class. This can take up to an hour."
   ]
  },
  {
   "cell_type": "code",
   "execution_count": null,
   "metadata": {},
   "outputs": [],
   "source": [
    "si.create_Fn_omega()"
   ]
  }
 ],
 "metadata": {
  "kernelspec": {
   "display_name": "Python 3",
   "language": "python",
   "name": "python3"
  },
  "language_info": {
   "codemirror_mode": {
    "name": "ipython",
    "version": 3
   },
   "file_extension": ".py",
   "mimetype": "text/x-python",
   "name": "python",
   "nbconvert_exporter": "python",
   "pygments_lexer": "ipython3",
   "version": "3.9.0"
  }
 },
 "nbformat": 4,
 "nbformat_minor": 4
}

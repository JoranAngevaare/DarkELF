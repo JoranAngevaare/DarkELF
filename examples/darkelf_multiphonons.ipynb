{
 "cells": [
  {
   "cell_type": "markdown",
   "metadata": {},
   "source": [
    "# DarkELF multiphonon notebook"
   ]
  },
  {
   "cell_type": "markdown",
   "metadata": {},
   "source": [
    "This notebook is meant to illustrate the part of the darkELF package for calculating dark matter-phonon rates in the multiphonon regime.\n",
    "\n",
    "written by Ethan, updated 02/08/2021"
   ]
  },
  {
   "cell_type": "code",
   "execution_count": 1,
   "metadata": {},
   "outputs": [],
   "source": [
    "%matplotlib inline\n",
    "\n",
    "import sys, os\n",
    "import numpy as np\n",
    "from numpy import pi\n",
    "import matplotlib.pyplot as plt\n",
    "import matplotlib.ticker\n",
    "from matplotlib import rc, rcParams\n",
    "import matplotlib.cm as cm\n",
    "from mpl_toolkits.axes_grid1 import make_axes_locatable\n",
    "import time\n",
    "import pandas\n",
    "from scipy import interpolate\n",
    "\n",
    "# Make use of TeX\\ufeff\n",
    "rc('text',usetex=True)\n",
    "# Change all fonts to 'Computer Modern'\n",
    "rc('font',**{'size':14, 'family':'serif','serif':['Times New Roman']})\n",
    "rc('xtick.major', size=5, pad=7)\n",
    "rc('xtick', labelsize=15)\n",
    "rc('ytick.major', size=5, pad=7)\n",
    "rc('ytick', labelsize=15)\n",
    "\n",
    "# this needs to point to the folder where darkelf.py is stored\n",
    "work_dir = os.getcwd()\n",
    "sys.path.append(work_dir+\"/..\")\n",
    "plotdir=work_dir+\"/plots/\"\n",
    "\n",
    "# load the package\n",
    "from darkelf import darkelf, targets"
   ]
  },
  {
   "cell_type": "markdown",
   "metadata": {},
   "source": [
    "## Load the materials"
   ]
  },
  {
   "cell_type": "markdown",
   "metadata": {},
   "source": [
    "When loading the materials, the \"dos_filename\" flag must be set in order to calculate rates in the multiphonon regime. The \"target_yaml\" flag is set automatically and can be overridden. Auxiliary functions \"Fn\" are pre-tabulated corresponding to the given density of states files and loaded in by default. If using another density of states, one must first run the \"create_Fn_omega()\" function on the desired density of states."
   ]
  },
  {
   "cell_type": "code",
   "execution_count": 2,
   "metadata": {},
   "outputs": [
    {
     "name": "stdout",
     "output_type": "stream",
     "text": [
      "Available configuration files: \n",
      "\t Si.yaml\n",
      " \n",
      "Available data for epsilon: \n",
      "\t Si_Migdal_FAC.dat\n",
      "\t Si_atomic_Z_eps_form_factor.dat\n",
      "\t Si_mermin.dat\n",
      "\t Si_gpaw_noLFE.dat\n",
      "\t Si_gpaw_withLFE.dat\n",
      "\t Si_epsphonon_theory6K.dat\n",
      "\t Si_epsphonon_data6K.dat\n",
      " \n",
      "Available data for phonon density of states: \n",
      "\t Si_DoS.dat\n",
      " \n",
      "Available data for Fn(omega) functions: \n",
      "\t Si_Fn.dat\n",
      " \n",
      "Available data for form factors: \n",
      "\t Si_atomic_Z_eps_form_factor.dat\n"
     ]
    }
   ],
   "source": [
    "targets.files('Si')\n"
   ]
  },
  {
   "cell_type": "markdown",
   "metadata": {},
   "source": [
    "If one is only interested in the multiphonon response, the electronic response specified with the \"filename\" flag is not used. If it is not specified, the code will produce a warning message, as seen below. There's also an optional form_factor_filename if one is interested in using a custom DM-atomic form factor. These can be ignored as long as we only care about DM-multiphonon scattering. Let's load a few materials."
   ]
  },
  {
   "cell_type": "code",
   "execution_count": 3,
   "metadata": {},
   "outputs": [
    {
     "name": "stdout",
     "output_type": "stream",
     "text": [
      " .... Loading files for GaAs\n",
      "Warning! Epsilon grid in electron regime does not exist.\n",
      "Warning! eps for phonon frequencies not loaded. Need to set phonon_filename \n",
      "Warning! Atomic Migdal calculation not present\n",
      "Loaded GaAs_DoS.dat for density of states\n",
      "Loaded Fn(omega) functions corresponding to density of states in:  GaAs_DoS.dat\n",
      "Warning! Form factor not loaded. Need to set form_factor_filename if needed. Otherwise defaults to massive mediator \n",
      " .... Loading files for Si\n",
      "Warning! Epsilon grid in electron regime does not exist.\n",
      "Warning! eps for phonon frequencies not loaded. Need to set phonon_filename \n",
      "Loaded Si_DoS.dat for density of states\n",
      "Loaded Fn(omega) functions corresponding to density of states in:  Si_DoS.dat\n",
      "Warning! Form factor not loaded. Need to set form_factor_filename if needed. Otherwise defaults to massive mediator \n",
      " .... Loading files for C\n",
      "Warning! Epsilon grid in electron regime does not exist.\n",
      "Warning! eps for phonon frequencies not loaded. Need to set phonon_filename \n",
      "Loaded C_DoS.dat for density of states\n",
      "Loaded Fn(omega) functions corresponding to density of states in:  C_DoS.dat\n",
      "Warning! Form factor not loaded. Need to set form_factor_filename if needed. Otherwise defaults to massive mediator \n"
     ]
    }
   ],
   "source": [
    "gaas = darkelf(target='GaAs',dos_filename=\"GaAs_DoS.dat\")\n",
    "si = darkelf(target='Si',dos_filename=\"Si_DoS.dat\")\n",
    "c = darkelf(target='C',dos_filename=\"C_DoS.dat\")"
   ]
  },
  {
   "cell_type": "markdown",
   "metadata": {},
   "source": [
    "# Cross section plots"
   ]
  },
  {
   "cell_type": "markdown",
   "metadata": {},
   "source": [
    "Now using the sigma_nucleon function to calculate the required DM-nucleon cross-section for a rate of 3 events/kg/yr, the larger dark matter mass points take longer to calculate since the integral over the allowed phase space is larger and requires more numerically intensive integrations."
   ]
  },
  {
   "cell_type": "code",
   "execution_count": 4,
   "metadata": {},
   "outputs": [
    {
     "name": "stdout",
     "output_type": "stream",
     "text": [
      "Points 0 to 4 took 0.05939006805419922 seconds to calculate\n",
      "Points 5 to 9 took 0.11327791213989258 seconds to calculate\n",
      "Points 10 to 14 took 33.545820236206055 seconds to calculate\n",
      "Points 15 to 19 took 67.87384700775146 seconds to calculate\n",
      "Points 20 to 24 took 63.21372389793396 seconds to calculate\n",
      "Points 25 to 29 took 68.51067614555359 seconds to calculate\n",
      "Points 30 to 34 took 72.39630699157715 seconds to calculate\n",
      "Points 35 to 39 took 67.0832462310791 seconds to calculate\n"
     ]
    },
    {
     "data": {
      "image/png": "[encoded data removed]",
      "text/plain": [
       "<Figure size 432x288 with 1 Axes>"
      ]
     },
     "metadata": {
      "needs_background": "light"
     },
     "output_type": "display_data"
    }
   ],
   "source": [
    "import seaborn as sns\n",
    "\n",
    "points = 40\n",
    "\n",
    "mdm = np.logspace(4, 9, points)\n",
    "\n",
    "reaches1 = np.zeros(points)\n",
    "reaches2 = np.zeros(points)\n",
    "reaches3 = np.zeros(points)\n",
    "\n",
    "import time\n",
    "\n",
    "for i, mass in enumerate(mdm):\n",
    "    if (i % 5) == 0:\n",
    "        start = time.time()\n",
    "    reaches1[i] = gaas.sigma_nucleon(mass, 1e-3, mediator='massless')\n",
    "    reaches2[i] = gaas.sigma_nucleon(mass, 1e-1, mediator='massless')\n",
    "    reaches3[i] = gaas.sigma_nucleon(mass, 1, mediator='massless')\n",
    "\n",
    "    if (i % 5) == 4:\n",
    "        end = time.time()\n",
    "        print(f'Points {i - 4} to {i} took {end - start} seconds to calculate')\n",
    "        # Just to check that everything is still working, the later points\n",
    "        # take longer\n",
    "        \n",
    "colors = sns.color_palette(\"husl\", 3)\n",
    "\n",
    "fig, ax = plt.subplots()\n",
    "\n",
    "\n",
    "ax.plot(mdm/1e6, reaches1, label='$1$ meV', color=colors[0])\n",
    "ax.plot(mdm/1e6, reaches2, label='$100$ meV', color=colors[1])\n",
    "ax.plot(mdm/1e6, reaches3, label='$1$ eV', color=colors[2])\n",
    "\n",
    "\n",
    "ax.set_xscale('log')\n",
    "ax.set_yscale('log')\n",
    "\n",
    "ax.set_xlabel('$m_\\chi \\ [\\mathrm{MeV}]$',fontsize=15)\n",
    "ax.set_ylabel('$\\sigma_n \\ [\\mathrm{cm}^2]$',fontsize=15)\n",
    "\n",
    "ax.tick_params(axis=\"both\",which=\"major\",labelsize=13,direction=\"in\",pad=5)\n",
    "\n",
    "ax.set_title(r'kg-yr GaAs, Massless Mediator')\n",
    "\n",
    "ax.set_xlim([1e-2,1e3])\n",
    "ax.set_ylim([1e-47,1e-37])\n",
    "\n",
    "xtick_major = [pow(10.,n) for n in range(-2,4,1)]\n",
    "ytick_major = [pow(10.,n) for n in range(-47,-36,2)]\n",
    "ax.set_yticks(ytick_major)\n",
    "ax.set_xticks(xtick_major)\n",
    "\n",
    "ax.legend(loc=(0.03,0.01),fontsize=9,frameon=False,ncol=2,title='Threshold Energy')\n",
    "\n",
    "plt.savefig(plotdir+\"gaas_massless_multiphonon.pdf\",bbox_inches='tight')\n"
   ]
  },
  {
   "cell_type": "markdown",
   "metadata": {},
   "source": [
    "If starting with a new density of states, one must run the 'create_Fn_omega()' function. This defaults to creating the Fn functions corresponding to the density of states loaded in in the instantiation of the class. This can take an hour or two."
   ]
  },
  {
   "cell_type": "markdown",
   "metadata": {},
   "source": [
    "# Differential Rate $\\frac{dR}{d\\omega}$"
   ]
  },
  {
   "cell_type": "markdown",
   "metadata": {},
   "source": [
    "We can calculate the differential rate as a function of the incoming dark matter mass using the function 'dR_domega_multiphonons' (defaults to coupling with mass number and $\\sigma_n = 10^{-38} \\mathrm{cm}^2$). Note that the single optical phonon response in the long wavelength regime we model as a Gaussian with width 0.5 meV"
   ]
  },
  {
   "cell_type": "code",
   "execution_count": 5,
   "metadata": {},
   "outputs": [
    {
     "name": "stderr",
     "output_type": "stream",
     "text": [
      "/Users/ethanvillarama/Desktop/phonon/python/DarkELF-main/examples/../darkelf/multiphonon_generalized.py:273: RuntimeWarning: invalid value encountered in double_scalars\n",
      "  formfactorsquared*debye_waller*self.etav((omega/self.cLA)/(2*mdm) + omega/(omega/self.cLA)))\n"
     ]
    },
    {
     "data": {
      "image/png": "[encoded data removed]",
      "text/plain": [
       "<Figure size 864x331.2 with 2 Axes>"
      ]
     },
     "metadata": {
      "needs_background": "light"
     },
     "output_type": "display_data"
    }
   ],
   "source": [
    "import seaborn as sns\n",
    "\n",
    "mdm1 = 1e7\n",
    "mdm2 = 1e8\n",
    "\n",
    "omegarange = np.linspace(0, 200e-3, 200)\n",
    "\n",
    "dr_domega1 = [gaas.dR_domega_multiphonons(mdm1, omega, mediator='massive') for omega in omegarange]\n",
    "dr_domega2 = [gaas.dR_domega_multiphonons(mdm2, omega, mediator='massive') for omega in omegarange]\n",
    "\n",
    "colors = sns.color_palette(\"husl\", 2)\n",
    "\n",
    "fig, (ax1, ax2) = plt.subplots(1, 2, figsize=(12, 4.6))\n",
    "\n",
    "ax1.plot(omegarange*1e3, dr_domega1, color=colors[0])\n",
    "ax2.plot(omegarange*1e3, dr_domega2, color=colors[1])\n",
    "\n",
    "\n",
    "ax1.set_xlabel(r'$\\omega \\ [\\mathrm{meV}]$',fontsize=15)\n",
    "ax2.set_xlabel(r'$\\omega \\ [\\mathrm{meV}]$',fontsize=15)\n",
    "ax1.set_ylabel(r'$\\frac{dR}{d\\omega} \\ [\\mathrm{Events}/\\mathrm{kg}/\\mathrm{yr}/\\mathrm{eV}]$',fontsize=15)\n",
    "\n",
    "\n",
    "ax1.set_title(r'$m_\\chi = 10$ MeV')\n",
    "ax2.set_title(r'$m_\\chi = 100$ MeV')\n",
    "\n",
    "ax1.set_xlim([0,200])\n",
    "ax2.set_xlim([0,200])\n",
    "\n",
    "ax1.set_ylim([0,4e8])\n",
    "ax2.set_ylim([0,2.5e7])\n",
    "\n",
    "\n",
    "xtick_major = [50*n for n in range(5)]\n",
    "ytick_major = [1e8*n for n in range(5)]\n",
    "ax1.set_yticks(ytick_major)\n",
    "\n",
    "ax1.set_xticks(xtick_major)\n",
    "ax2.set_xticks(xtick_major)\n",
    "\n",
    "ytick_major = [0.5e7*n for n in range(6)]\n",
    "ax2.set_yticks(ytick_major)\n",
    "\n",
    "plt.suptitle(r'GaAs Differential Rate, Massive Mediator, $\\sigma_n = 10^{-38} \\mathrm{cm}^2$', y=1.03)\n",
    "\n",
    "plt.savefig(plotdir+\"gaas_massive_rates.pdf\",bbox_inches='tight')"
   ]
  },
  {
   "cell_type": "markdown",
   "metadata": {},
   "source": [
    "# Custom Atomic Form Factor"
   ]
  },
  {
   "cell_type": "markdown",
   "metadata": {},
   "source": [
    "Here we calculate the cross-section for a rate of 3 events/kg/yr for a dark photon, using a custom atomic form factor. In order to do this, the form factor must be loaded in at the instantiation of the class via 'form_factor_filename' and the flag 'custom_form_factor' must be set to 'True' in function calls. Note that the default coupling without a custom form factor is the mass number, setting 'custom_form_factor' to 'True' removes the mass number coupling."
   ]
  },
  {
   "cell_type": "code",
   "execution_count": 6,
   "metadata": {},
   "outputs": [
    {
     "name": "stdout",
     "output_type": "stream",
     "text": [
      " .... Loading files for Si\n",
      "Warning! Epsilon grid in electron regime does not exist.\n",
      "Warning! eps for phonon frequencies not loaded. Need to set phonon_filename \n",
      "Loaded Si_DoS.dat for density of states\n",
      "Loaded Fn(omega) functions corresponding to density of states in:  Si_DoS.dat\n",
      "Loaded Si_atomic_Z_eps_form_factor.dat for form factor\n",
      "Points 0 to 4 took 0.03877687454223633 seconds to calculate\n",
      "Points 5 to 9 took 0.09177422523498535 seconds to calculate\n",
      "Points 10 to 14 took 30.830400943756104 seconds to calculate\n",
      "Points 15 to 19 took 108.66565299034119 seconds to calculate\n",
      "Points 20 to 24 took 77.96392226219177 seconds to calculate\n",
      "Points 25 to 29 took 69.02868103981018 seconds to calculate\n",
      "Points 30 to 34 took 73.16065621376038 seconds to calculate\n",
      "Points 35 to 39 took 70.12391996383667 seconds to calculate\n"
     ]
    },
    {
     "data": {
      "image/png": "[encoded data removed]",
      "text/plain": [
       "<Figure size 432x288 with 1 Axes>"
      ]
     },
     "metadata": {
      "needs_background": "light"
     },
     "output_type": "display_data"
    }
   ],
   "source": [
    "import seaborn as sns\n",
    "\n",
    "# Loads dark photon form factor \n",
    "si = darkelf(target='Si',dos_filename=\"Si_DoS.dat\",\n",
    "             form_factor_filename='Si_atomic_Z_eps_form_factor.dat')\n",
    "\n",
    "points = 40\n",
    "\n",
    "mdm = np.logspace(4, 9, points)\n",
    "\n",
    "reaches1 = np.zeros(points)\n",
    "reaches2 = np.zeros(points)\n",
    "reaches3 = np.zeros(points)\n",
    "\n",
    "\n",
    "import time\n",
    "\n",
    "for i, mass in enumerate(mdm):\n",
    "    if (i % 5) == 0:\n",
    "        start = time.time()\n",
    "    reaches1[i] = si.sigma_nucleon(mass, 20e-3, custom_form_factor=True)\n",
    "    reaches2[i] = si.sigma_nucleon(mass, 80e-3, custom_form_factor=True)\n",
    "    reaches3[i] = si.sigma_nucleon(mass, 200e-3, custom_form_factor=True)\n",
    "\n",
    "    if (i % 5) == 4:\n",
    "        end = time.time()\n",
    "        print(f'Points {i - 4} to {i} took {end - start} seconds to calculate')\n",
    "        # Just to check that everything is still working, the later points\n",
    "        # take longer\n",
    "        \n",
    "colors = sns.color_palette(\"husl\", 3)\n",
    "\n",
    "fig, ax = plt.subplots()\n",
    "\n",
    "ax.plot(mdm/1e6, reaches1, label='$20$ meV', color=colors[0])\n",
    "ax.plot(mdm/1e6, reaches2, label='$80$ meV', color=colors[1])\n",
    "ax.plot(mdm/1e6, reaches3, label='$200$ meV', color=colors[2])\n",
    "\n",
    "ax.set_xscale('log')\n",
    "ax.set_yscale('log')\n",
    "\n",
    "ax.set_xlim([1e-2,1e3])\n",
    "ax.set_ylim([1e-43,1e-37])\n",
    "\n",
    "ax.set_xlabel('$m_\\chi \\ [\\mathrm{MeV}]$',fontsize=15)\n",
    "ax.set_ylabel('$\\sigma_p \\ [\\mathrm{cm}^2]$',fontsize=15)\n",
    "\n",
    "ax.tick_params(axis=\"both\",which=\"major\",labelsize=13,direction=\"in\",pad=5)\n",
    "\n",
    "xtick_major = [pow(10.,n) for n in range(-2,4,1)]\n",
    "ytick_major = [pow(10.,n) for n in range(-43,-36,2)]\n",
    "ax.set_yticks(ytick_major)\n",
    "ax.set_xticks(xtick_major)\n",
    "\n",
    "ax.set_title(r'kg-yr Si, Dark Photon')\n",
    "\n",
    "ax.legend(loc=(0.03,0.01),fontsize=8,frameon=False,ncol=2,title=\"Threshold Energy\",)\n",
    "\n",
    "plt.savefig(plotdir+\"si_dark_photon.pdf\",bbox_inches='tight')\n"
   ]
  },
  {
   "cell_type": "code",
   "execution_count": null,
   "metadata": {},
   "outputs": [],
   "source": []
  }
 ],
 "metadata": {
  "kernelspec": {
   "display_name": "Python 3",
   "language": "python",
   "name": "python3"
  },
  "language_info": {
   "codemirror_mode": {
    "name": "ipython",
    "version": 3
   },
   "file_extension": ".py",
   "mimetype": "text/x-python",
   "name": "python",
   "nbconvert_exporter": "python",
   "pygments_lexer": "ipython3",
   "version": "3.9.0"
  }
 },
 "nbformat": 4,
 "nbformat_minor": 4
}

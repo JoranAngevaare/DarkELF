{
 "cells": [
  {
   "cell_type": "code",
   "execution_count": null,
   "metadata": {},
   "outputs": [],
   "source": [
    "%matplotlib inline\n",
    "\n",
    "import sys, os\n",
    "import numpy as np\n",
    "import matplotlib.pyplot as plt\n",
    "import matplotlib.ticker\n",
    "from matplotlib import rc, rcParams\n",
    "import matplotlib.cm as cm\n",
    "from mpl_toolkits.axes_grid1 import make_axes_locatable\n",
    "\n",
    "# Make use of TeX\\ufeff\n",
    "rc('text',usetex=True)\n",
    "# Change all fonts to 'Computer Modern'\n",
    "rc('font',**{'size':14, 'family':'serif','serif':['Times New Roman']})\n",
    "rc('xtick.major', size=5, pad=7)\n",
    "rc('xtick', labelsize=15)\n",
    "rc('ytick.major', size=5, pad=7)\n",
    "rc('ytick', labelsize=15)\n",
    "\n",
    "# this needs to point to the folder where darkelf.py is stored\n",
    "work_dir = os.getcwd()\n",
    "sys.path.append(work_dir+\"/..\")\n",
    "plotdir=work_dir+\"/plots/\"\n",
    "\n",
    "from darkelf import darkelf, targets\n"
   ]
  },
  {
   "cell_type": "markdown",
   "metadata": {},
   "source": [
    "Check which data grids are available for the material of interest."
   ]
  },
  {
   "cell_type": "code",
   "execution_count": null,
   "metadata": {},
   "outputs": [],
   "source": [
    "targets.files(\"Ge\")"
   ]
  },
  {
   "cell_type": "markdown",
   "metadata": {},
   "source": [
    "Specify a \"filename\" for the ELF for omega > electron band gap and a \"phonon_filename\" for the ELF below the electron bandgap, if desired."
   ]
  },
  {
   "cell_type": "code",
   "execution_count": null,
   "metadata": {},
   "outputs": [],
   "source": [
    "Si = darkelf(target='Si',filename='Si_gpaw_withLFE.dat',phonon_filename=\"Si_epsphonon_data6K.dat\")\n",
    "Si_mermin = darkelf(target='Si',filename='Si_mermin.dat',phonon_filename=\"Si_epsphonon_data6K.dat\")\n",
    "Si_phonon_theory = darkelf(target='Si',filename='Si_mermin.dat',phonon_filename=\"Si_epsphonon_theory6K.dat\")\n",
    "\n",
    "Ge = darkelf(target='Ge',filename='Ge_gpaw_withLFE.dat',phonon_filename=\"Ge_epsphonon_data2K.dat\")\n",
    "Ge_mermin = darkelf(target='Ge',filename='Ge_mermin.dat',phonon_filename=\"Ge_epsphonon_data2K.dat\")\n",
    "Ge_phonon_theory = darkelf(target='Ge',filename='Ge_mermin.dat',phonon_filename=\"Ge_epsphonon_theory6K.dat\")\n",
    "\n"
   ]
  },
  {
   "cell_type": "markdown",
   "metadata": {},
   "source": [
    "## dielectric functions"
   ]
  },
  {
   "cell_type": "markdown",
   "metadata": {},
   "source": [
    "Real part"
   ]
  },
  {
   "cell_type": "code",
   "execution_count": null,
   "metadata": {},
   "outputs": [],
   "source": [
    "?Si.eps1"
   ]
  },
  {
   "cell_type": "code",
   "execution_count": null,
   "metadata": {},
   "outputs": [],
   "source": [
    "print(Si.eps1(5.0,1000.))\n",
    "print(Si.eps1(5.0,1000.,method=\"Lindhard\"))\n",
    "print(Si.eps1(0.1,0.0,method=\"phonon\"))\n",
    "print(Si.eps1([5.0,10],1000.)) # can be broadcasted over a list of omega"
   ]
  },
  {
   "cell_type": "markdown",
   "metadata": {},
   "source": [
    "imaginary part"
   ]
  },
  {
   "cell_type": "code",
   "execution_count": null,
   "metadata": {},
   "outputs": [],
   "source": [
    "?Si.eps2"
   ]
  },
  {
   "cell_type": "code",
   "execution_count": null,
   "metadata": {},
   "outputs": [],
   "source": [
    "print(Si.eps2(5.0,1000.))\n",
    "print(Si.eps2(5.0,1000.,method=\"Lindhard\"))\n",
    "print(Si.eps2(0.1,0.0,method=\"phonon\"))\n",
    "print(Si.eps2([5.0,10],1000.)) # can be broadcasted over a list of omega"
   ]
  },
  {
   "cell_type": "markdown",
   "metadata": {},
   "source": [
    "ELF"
   ]
  },
  {
   "cell_type": "code",
   "execution_count": null,
   "metadata": {},
   "outputs": [],
   "source": [
    "?Si.elf"
   ]
  },
  {
   "cell_type": "code",
   "execution_count": null,
   "metadata": {},
   "outputs": [],
   "source": [
    "print(Si.elf(5.0,1000.))\n",
    "print(Si.elf(5.0,1000.,method=\"Lindhard\"))\n",
    "print(Si.elf(0.07,0.0,method=\"phonon\"))\n",
    "print(Si.elf([5.0,10],1000.)) # can be broadcasted over a list of omega"
   ]
  },
  {
   "cell_type": "markdown",
   "metadata": {},
   "source": [
    "##  The optical regime (k=0), electron regime"
   ]
  },
  {
   "cell_type": "markdown",
   "metadata": {},
   "source": [
    "This limit is relevant for absorption. Experimental data is also easier to find in this limit. Comparison between GPAW, mermin and experimental data"
   ]
  },
  {
   "cell_type": "code",
   "execution_count": null,
   "metadata": {},
   "outputs": [],
   "source": [
    "fig, axs = plt.subplots(2,2,figsize=(12, 8),sharex=True)\n",
    "fig.subplots_adjust(wspace=0.25)\n",
    "\n",
    "omvec = np.linspace(0,80,200)\n",
    "\n",
    "### Epsilon1, Si\n",
    "y1 = [Si.eps1(omi,omi) for omi in omvec]\n",
    "y2 = [Si_mermin.eps1(omi,omi) for omi in omvec]\n",
    "axs[0][0].plot(omvec,y1,color='MediumBlue',label='Si, GPAW')\n",
    "axs[0][0].plot(omvec,y2,color='MediumBlue',linestyle='--',label='Si, mermin')\n",
    "\n",
    "dat = np.loadtxt('data/Si-handbook-nk.txt').T\n",
    "axs[0][0].plot(dat[0],dat[1]**2 - dat[2]**2,color='SteelBlue',\n",
    "         linestyle=':', label=r'Si, optical data')\n",
    "\n",
    "axs[0][0].set_yscale('linear')\n",
    "axs[0][0].set_xlim([0,15])\n",
    "axs[0][0].legend(loc='upper right')\n",
    "axs[0][0].set_ylabel(r'$\\epsilon_1$',fontsize=16)\n",
    "\n",
    "### Epsilon2, Si\n",
    "y1 = [Si.eps2(omi,omi) for omi in omvec]\n",
    "y2 = [Si_mermin.eps2(omi,omi) for omi in omvec]\n",
    "axs[0][1].plot(omvec,y1,color='MediumBlue',label='Si, GPAW')\n",
    "axs[0][1].plot(omvec,y2,color='MediumBlue',linestyle='--',label='Si, mermin')\n",
    "\n",
    "axs[0][1].plot(dat[0],dat[1]*dat[2]*2.0,color='SteelBlue',\n",
    "         linestyle=':', label=r'Si, optical data', linewidth=2.0)\n",
    "\n",
    "axs[0][1].set_yscale('log')\n",
    "axs[0][1].set_ylim([1e-3,1e2])\n",
    "axs[0][1].set_xlim([0,40])\n",
    "axs[0][1].legend(loc='upper right')\n",
    "axs[0][1].set_ylabel(r'$\\epsilon_2$',fontsize=16)\n",
    "\n",
    "### Epsilon1, Ge\n",
    "\n",
    "y1 = [Ge.eps1(omi,omi) for omi in omvec]\n",
    "y2 = [Ge_mermin.eps1(omi,omi) for omi in omvec]\n",
    "axs[1][0].plot(omvec,y1,color='Coral',label='Ge, GPAW')\n",
    "axs[1][0].plot(omvec,y2,color='Coral',linestyle='--',label='Ge, mermin')\n",
    "\n",
    "dat = np.loadtxt('data/Ge-handbook-nk.txt').T\n",
    "axs[1][0].plot(dat[0],dat[2]**2 - dat[3]**2,color='Crimson',\n",
    "         linestyle=':', label=r'Ge, optical data')\n",
    "\n",
    "axs[1][0].set_yscale('linear')\n",
    "axs[1][0].set_xlim([0,15])\n",
    "axs[1][0].legend(loc='upper right')\n",
    "axs[1][0].set_xlabel(r'$\\omega$ [eV]')\n",
    "axs[1][0].set_ylabel(r'$\\epsilon_1$',fontsize=16)\n",
    "\n",
    "### Epsilon2, Ge\n",
    "y1 = [Ge.eps2(omi,omi) for omi in omvec]\n",
    "y2 = [Ge_mermin.eps2(omi,omi) for omi in omvec]\n",
    "axs[1][1].plot(omvec,y1,color='Coral',label='Ge, GPAW')\n",
    "axs[1][1].plot(omvec,y2,color='Coral',linestyle='--',label='Ge, mermin')\n",
    "\n",
    "axs[1][1].plot(dat[0],dat[2]*dat[3]*2.0,color='Crimson',\n",
    "         linestyle=':', label=r'Ge, optical data', linewidth=2.0)\n",
    "\n",
    "axs[1][1].set_yscale('log')\n",
    "axs[1][1].set_ylim([1e-3,1e2])\n",
    "axs[1][1].set_xlim([0,40])\n",
    "axs[1][1].legend(loc='upper right')\n",
    "axs[1][1].set_xlabel(r'$\\omega$ [eV]')\n",
    "axs[1][1].set_ylabel(r'$\\epsilon_2$',fontsize=16)\n",
    "\n",
    "fig.savefig(plotdir+\"darkelf_epsilon_1.pdf\",bbox_inches='tight')\n"
   ]
  },
  {
   "cell_type": "markdown",
   "metadata": {},
   "source": [
    "Same, for ELF"
   ]
  },
  {
   "cell_type": "code",
   "execution_count": null,
   "metadata": {},
   "outputs": [],
   "source": [
    "fig, axs = plt.subplots(1,2,figsize=(12, 4),sharey=True)\n",
    "fig.subplots_adjust(wspace=0.25)\n",
    "\n",
    "omvec = np.linspace(0,80,200)\n",
    "\n",
    "### ELF, Si\n",
    "y1 = [Si.elf(omi,omi) for omi in omvec]\n",
    "y2 = [Si_mermin.elf(omi,omi) for omi in omvec]\n",
    "axs[0].plot(omvec,y1,color='MediumBlue',label='Si, GPAW')\n",
    "axs[0].plot(omvec,y2,color='MediumBlue',linestyle='--',label='Si, mermin')\n",
    "\n",
    "dat = np.loadtxt('data/Si-handbook-nk.txt').T\n",
    "dat_eps1 = dat[1]**2 - dat[2]**2\n",
    "dat_eps2 = dat[1]*dat[2]*2.0\n",
    "axs[0].plot(dat[0],dat_eps2/(dat_eps2**2 + dat_eps1**2),color='SteelBlue',\n",
    "         linestyle=':', label=r'Si, optical data',linewidth=2.0)\n",
    "\n",
    "axs[0].set_yscale('log')\n",
    "axs[0].set_ylim([1e-3,20])\n",
    "axs[0].set_xlim([0,100])\n",
    "axs[0].legend(loc='upper right')\n",
    "axs[0].set_xlabel(r'$\\omega$ [eV]')\n",
    "axs[0].set_ylabel(r'ELF',fontsize=12)\n",
    "\n",
    "### Epsilon1, Ge\n",
    "\n",
    "y1 = [Ge.elf(omi,omi) for omi in omvec]\n",
    "y2 = [Ge_mermin.elf(omi,omi) for omi in omvec]\n",
    "axs[1].plot(omvec,y1,color='Coral',label='Ge, GPAW')\n",
    "axs[1].plot(omvec,y2,color='Coral',linestyle='--',label='Ge, mermin')\n",
    "\n",
    "dat = np.loadtxt('data/Ge-handbook-nk.txt').T\n",
    "dat_eps1 = dat[2]**2 - dat[3]**2\n",
    "dat_eps2 = dat[2]*dat[3]*2.0\n",
    "axs[1].plot(dat[0],dat_eps2/(dat_eps2**2 + dat_eps1**2),color='Crimson',\n",
    "         linestyle=':', label=r'Ge, optical data')\n",
    "\n",
    "axs[1].set_yscale('log')\n",
    "axs[1].set_ylim([1e-3,20])\n",
    "axs[1].set_xlim([0,100])\n",
    "axs[1].legend(loc='upper right')\n",
    "axs[1].set_xlabel(r'$\\omega$ [eV]')\n",
    "\n",
    "fig.savefig(plotdir+\"darkelf_epsilon_2.pdf\",bbox_inches='tight')"
   ]
  },
  {
   "cell_type": "markdown",
   "metadata": {},
   "source": [
    "Note the Ge data set is very coarse below 20 eV, which is why it does not reproduce the plasmon resonance. The GPAW calculation for Ge also does not include semi-core electrons, which contribute at energies of 30 eV and above"
   ]
  },
  {
   "cell_type": "markdown",
   "metadata": {},
   "source": [
    "## optical limit (k=0) in phonon regime"
   ]
  },
  {
   "cell_type": "code",
   "execution_count": null,
   "metadata": {},
   "outputs": [],
   "source": [
    "fig, axs = plt.subplots(2,2,figsize=(12, 8),sharex=True)\n",
    "fig.subplots_adjust(wspace=0.25)\n",
    "\n",
    "omvec = np.linspace(0,1,200)\n",
    "\n",
    "### Epsilon1, Si\n",
    "y1 = [Si.eps1(omi,omi,method=\"phonon\") for omi in omvec]\n",
    "y2 = [Si_phonon_theory.eps1(omi,omi,method=\"phonon\") for omi in omvec]\n",
    "axs[0][0].plot(omvec,y1,color='MediumBlue',label='Si, measured')\n",
    "axs[0][0].plot(omvec,y2,color='MediumBlue',linestyle='--',label='Si, theory')\n",
    "\n",
    "axs[0][0].set_yscale('linear')\n",
    "axs[0][0].set_xlim([0,0.2])\n",
    "axs[0][0].legend(loc='upper right')\n",
    "axs[0][0].set_ylabel(r'$\\epsilon_1$',fontsize=16)\n",
    "\n",
    "### Epsilon2, Si\n",
    "y1 = [Si.eps2(omi,omi,method=\"phonon\") for omi in omvec]\n",
    "y2 = [Si_phonon_theory.eps2(omi,omi,method=\"phonon\") for omi in omvec]\n",
    "axs[0][1].plot(omvec,y1,color='MediumBlue',label='Si, measured')\n",
    "axs[0][1].plot(omvec,y2,color='MediumBlue',linestyle='--',label='Si, theory')\n",
    "\n",
    "axs[0][1].set_yscale('log')\n",
    "axs[0][1].set_ylim([1e-5,1e-2])\n",
    "axs[0][1].set_xlim([0,0.2])\n",
    "axs[0][1].legend(loc='upper right')\n",
    "axs[0][1].set_ylabel(r'$\\epsilon_2$',fontsize=16)\n",
    "\n",
    "### Epsilon1, Ge\n",
    "\n",
    "y1 = [Ge.eps1(omi,omi,method=\"phonon\") for omi in omvec]\n",
    "y2 = [Ge_phonon_theory.eps1(omi,omi,method=\"phonon\") for omi in omvec]\n",
    "axs[1][0].plot(omvec,y1,color='Coral',label='Ge, measured')\n",
    "axs[1][0].plot(omvec,y2,color='Coral',linestyle='--',label='Ge, theory')\n",
    "\n",
    "\n",
    "axs[1][0].set_yscale('linear')\n",
    "axs[1][0].set_xlim([0,0.2])\n",
    "axs[1][0].legend(loc='upper right')\n",
    "axs[1][0].set_xlabel(r'$\\omega$ [eV]')\n",
    "axs[1][0].set_ylabel(r'$\\epsilon_1$',fontsize=16)\n",
    "\n",
    "### Epsilon2, Ge\n",
    "y1 = [Ge.eps2(omi,omi,method=\"phonon\") for omi in omvec]\n",
    "y2 = [Ge_phonon_theory.eps2(omi,omi,method=\"phonon\") for omi in omvec]\n",
    "axs[1][1].plot(omvec,y1,color='Coral',label='Ge, measured')\n",
    "axs[1][1].plot(omvec,y2,color='Coral',linestyle='--',label='Ge, theory')\n",
    "\n",
    "axs[1][1].set_yscale('log')\n",
    "axs[1][1].set_ylim([1e-5,1e-2])\n",
    "axs[1][1].set_xlim([0,0.2])\n",
    "axs[1][1].legend(loc='upper right')\n",
    "axs[1][1].set_xlabel(r'$\\omega$ [eV]')\n",
    "axs[1][1].set_ylabel(r'$\\epsilon_2$',fontsize=16)\n",
    "\n",
    "fig.savefig(plotdir+\"darkelf_epsilon_3.pdf\",bbox_inches='tight')"
   ]
  },
  {
   "cell_type": "markdown",
   "metadata": {},
   "source": [
    "Same for ELF"
   ]
  },
  {
   "cell_type": "code",
   "execution_count": null,
   "metadata": {},
   "outputs": [],
   "source": [
    "fig, axs = plt.subplots(1,2,figsize=(12, 4),sharey=True)\n",
    "fig.subplots_adjust(wspace=0.25)\n",
    "\n",
    "omvec = np.linspace(0,0.2,100)\n",
    "\n",
    "### ELF, Si\n",
    "y1 = [Si.elf(omi,omi,method=\"phonon\") for omi in omvec]\n",
    "y2 = [Si_phonon_theory.elf(omi,omi,method=\"phonon\") for omi in omvec]\n",
    "axs[0].plot(omvec,y1,color='MediumBlue',label='Si, measured')\n",
    "axs[0].plot(omvec,y2,color='MediumBlue',linestyle='--',label='Si, theory')\n",
    "\n",
    "axs[0].set_yscale('log')\n",
    "axs[0].set_ylim([1e-7,1e-4])\n",
    "axs[0].set_xlim([0,0.2])\n",
    "axs[0].legend(loc='upper right')\n",
    "axs[0].set_xlabel(r'$\\omega$ [eV]')\n",
    "axs[0].set_ylabel(r'ELF',fontsize=12)\n",
    "\n",
    "### Epsilon1, Ge\n",
    "\n",
    "y1 = [Ge.elf(omi,omi,method=\"phonon\") for omi in omvec]\n",
    "y2 = [Ge_phonon_theory.elf(omi,omi,method=\"phonon\") for omi in omvec]\n",
    "axs[1].plot(omvec,y1,color='Coral',label='Ge, measured')\n",
    "axs[1].plot(omvec,y2,color='Coral',linestyle='--',label='Ge, theory')\n",
    "\n",
    "\n",
    "axs[1].set_yscale('log')\n",
    "axs[1].set_ylim([1e-7,1e-4])\n",
    "axs[1].set_xlim([0,0.2])\n",
    "axs[1].legend(loc='upper right')\n",
    "axs[1].set_xlabel(r'$\\omega$ [eV]')\n",
    "\n",
    "fig.savefig(plotdir+\"darkelf_epsilon_4.pdf\",bbox_inches='tight')"
   ]
  },
  {
   "cell_type": "markdown",
   "metadata": {},
   "source": [
    "## finite k, electron regime "
   ]
  },
  {
   "cell_type": "markdown",
   "metadata": {},
   "source": [
    "This limit is relevant for scattering."
   ]
  },
  {
   "cell_type": "code",
   "execution_count": null,
   "metadata": {},
   "outputs": [],
   "source": [
    "kvals = np.linspace(10,1e4,400)*1e-3\n",
    "ovals = np.linspace(0.01,80,160)\n",
    "Nomega = len(ovals)\n",
    "Nk = len(kvals)\n",
    "\n",
    "z1_grid = np.zeros((Nomega,Nk))\n",
    "z2_grid = np.zeros((Nomega,Nk))\n",
    "ELF_Lindhard = np.zeros((Nomega,Nk))\n",
    "ELF_mermin = np.zeros((Nomega,Nk))\n",
    "ELF_gpaw = np.zeros((Nomega,Nk))\n",
    "\n",
    "for j in range(Nk):\n",
    "    for i in range(Nomega):\n",
    "        ELF_gpaw[i][j] = Si.elf(ovals[i],kvals[j]*1e3)\n",
    "        ELF_mermin[i][j] = Si_mermin.elf(ovals[i],kvals[j]*1e3)\n",
    "        ELF_Lindhard[i][j] = Si_mermin.elf(ovals[i],kvals[j]*1e3,method=\"Lindhard\")"
   ]
  },
  {
   "cell_type": "code",
   "execution_count": null,
   "metadata": {},
   "outputs": [],
   "source": [
    "fig, ax = plt.subplots(1,3,sharey=True)\n",
    "fig.set_figheight(4.5)\n",
    "fig.set_figwidth(12)\n",
    "\n",
    "levels = np.linspace(-4,1,11)\n",
    "\n",
    "kF = 3335.6\n",
    "wp = 15.\n",
    "kF = Si_mermin.kF\n",
    "wp = Si_mermin.omegap\n",
    "vF = kF/511e3\n",
    "eVtoA0 = 1973.2\n",
    "\n",
    "xx = np.linspace(10,1e4,400)\n",
    "ax[0].fill_between(xx*1e-3,(xx**2 - 2*xx*kF)/(2*511e3),(xx**2 + 2*xx*kF)/(2*511e3),color='SteelBlue',alpha=0.3)\n",
    "xx = np.linspace(0,2230,200)\n",
    "ax[0].plot(xx*1e-3,wp*(1 + 0.3*vF**2/wp**2*xx**2),color='Navy')\n",
    "xx = np.linspace(0,10000,200)\n",
    "ax[0].plot(xx*1e-3,(xx**2 + 2*xx*kF)/(2*511e3),color='Navy')\n",
    "ax[0].plot(xx*1e-3,(xx**2 - 2*xx*kF)/(2*511e3),color='Navy')\n",
    "\n",
    "img0=ax[0].contourf(kvals,ovals,np.log10(ELF_Lindhard),levels,origin='lower',\n",
    "                      extent = [min(kvals),max(kvals),min(ovals),max(ovals)])\n",
    "img1=ax[1].contourf(kvals,ovals,np.log10(ELF_mermin),levels,origin='lower',\n",
    "                      extent = [min(kvals),max(kvals),min(ovals),max(ovals)])\n",
    "img2=ax[2].contourf(kvals,ovals,np.log10(ELF_gpaw),levels,origin='lower',\n",
    "                      extent = [min(kvals),max(kvals),min(ovals),max(ovals)])\n",
    "#ax.clabel(img1,colors='w')\n",
    "#fig.colorbar(img2,ax=ax[2])\n",
    "#fig.colorbar(img2,  ax=ax.ravel().tolist(), orientation='vertical')\n",
    "cb=fig.colorbar(img2, ax=ax.ravel().tolist(),anchor=(2.1,1.05),shrink=0.94)\n",
    "cb.set_label(\"$\\log_{10}$ Im[$-1/\\epsilon(\\omega, k)]$\",rotation=-90,labelpad=15)\n",
    "\n",
    "ax[0].set_ylim([0,40])\n",
    "ax[0].set_xlim([0,10])\n",
    "ax[0].set_xlabel('$k$ [keV]',fontsize=18)\n",
    "ax[0].set_ylabel('$\\omega$ [eV]',fontsize=18)\n",
    "ax[0].tick_params(bottom=True,right=True,top=True,direction='in',which='both')\n",
    "ax[0].text(4,25,'Electron-hole \\n excitations',color='Navy',fontsize=18)\n",
    "ax[0].text(0.20,17.5,'Plasmon',color='Navy',rotation=26,fontsize=12)\n",
    "ax[0].text(0.5,36.5,r'{\\bf Lindhard}',color='black')\n",
    "ax[0].plot(xx*1e-3,xx*2.5*1e-3,color='black',linestyle='--',linewidth=0.8)\n",
    "ax[0].text(5,10.5,'$\\omega < k v$',color='k',rotation='30')\n",
    "ax[0].arrow(0.445,0.28, 0.023, -0.036, head_width=0.025, head_length=0.015,\n",
    "            linewidth=0.5,fc='k', ec='k', transform=ax[0].transAxes)\n",
    "#ax[0].set_title(r'Si $\\log_{10}$ Im($-1/\\epsilon(\\omega, k))$')\n",
    "\n",
    "ax[1].set_ylim([0,40])\n",
    "ax[1].set_xlim([0,10])\n",
    "ax[1].set_xlabel('$k$ [keV]',fontsize=18)\n",
    "ax[1].tick_params(bottom=True,right=True,top=True,direction='in',which='both')\n",
    "ax[1].text(0.5,36.5,r'{\\bf Mermin}',color='black')\n",
    "ax[1].plot(xx*1e-3,xx*2.5*1e-3,color='black',linestyle='--',linewidth=0.8)\n",
    "#ax[1].set_title(r'Si $\\log_{10}$ Im($-1/\\epsilon(\\omega, k))$')\n",
    "\n",
    "ax[2].set_ylim([0,40])\n",
    "ax[2].set_xlim([0,10])\n",
    "ax[2].set_xlabel('$k$ [keV]',fontsize=18)\n",
    "ax[2].tick_params(bottom=True,right=True,top=True,direction='in',which='both')\n",
    "ax[2].text(0.5,36.5,r'{\\bf GPAW}',color='black')\n",
    "ax[2].plot(xx*1e-3,xx*2.5*1e-3,color='black',linestyle='--',linewidth=0.8)\n",
    "#ax[2].set_title(r'Si $\\log_{10}$ Im($-1/\\epsilon(\\omega, k))$')\n",
    "\n",
    "fig.tight_layout()\n",
    "fig.savefig(plotdir+\"darkelf_epsilon_5.pdf\",bbox_inches='tight')"
   ]
  },
  {
   "cell_type": "code",
   "execution_count": null,
   "metadata": {},
   "outputs": [],
   "source": [
    "fig, axs = plt.subplots(2, 4,figsize=(14, 7))\n",
    "rc('xtick', labelsize=14)\n",
    "rc('ytick', labelsize=14)\n",
    "plt.subplots_adjust(top = 0.93, bottom=0.01, hspace=0.1, wspace=0.2)\n",
    "\n",
    "\n",
    "# first row, plots as function of omega\n",
    "#######################################\n",
    "# omega and k grid\n",
    "olist=np.linspace(0,100,200)\n",
    "klist=[ 1.0, 2.0e3, 5.0e3 , 7.0e3 ]\n",
    "   \n",
    "# loop over the momenta\n",
    "for i in range(len(klist)):\n",
    "    k=klist[i]\n",
    "    \n",
    "    # calculate ELF as function of omega\n",
    "    ELF_gpaw=list(map(lambda om: Si.elf(om,k),olist))\n",
    "    ELF_mermin=list(map(lambda om: Si_mermin.elf(om,k),olist))\n",
    "    ELF_Lindhard=list(map(lambda om: Si_mermin.elf(om,k,method=\"Lindhard\"),olist))\n",
    "\n",
    "    # plot\n",
    "    axs[0][i].plot(olist,ELF_gpaw,\n",
    "                   label=\"GPAW\",\n",
    "                  color=\"Indigo\")\n",
    "    axs[0][i].plot(olist,ELF_mermin,\n",
    "                   label=r\"Mermin\",\n",
    "                   color=\"orange\")\n",
    "    axs[0][i].plot(olist,ELF_Lindhard,\n",
    "                   label=r\"Lindhard\",\n",
    "                   color=\"forestgreen\")\n",
    "    axs[0][i].set_xlabel(r\"$\\omega$ (eV)\",fontsize=16)\n",
    "    axs[0][i].set_xlim([0,100])\n",
    "    axs[0][i].tick_params(bottom=True,direction='in',which='both')\n",
    "    \n",
    "axs[0][0].set_ylim([0,6])\n",
    "axs[0][1].set_ylim([0,4])\n",
    "axs[0][2].set_ylim([0,0.45])\n",
    "axs[0][3].set_ylim([0,0.2])\n",
    "axs[0][0].legend(loc=\"lower right\",frameon=False)\n",
    "axs[0][0].set_ylabel(r\"$\\mathrm{Im}\\left[\\frac{-1}{\\epsilon(\\omega,k)}\\right]$\",fontsize=16)\n",
    "\n",
    "# add some decoration\n",
    "for i in range(4):\n",
    "    axs[0][i].text(0.05,0.9,\"Si\",fontsize=16,transform = axs[0][i].transAxes)\n",
    "    axs[0][i].text(0.95,0.9,r\"$k=$ \"+str(np.round(klist[i]*1e-3,0))+\" keV\",transform = axs[0][i].transAxes,fontsize=16,horizontalalignment=\"right\")\n",
    "    \n",
    "\n",
    "    \n",
    "# second row, plots as function of k\n",
    "#######################################    \n",
    "    \n",
    "# omega and k grid\n",
    "olist=[5.0,10.0,15.0,20.0]\n",
    "klist=np.linspace(0.1,3e4,100)\n",
    "\n",
    "# loop over the omega\n",
    "for i in range(len(olist)):\n",
    "    om=olist[i]\n",
    "    \n",
    "    # calculate ELF as function of k\n",
    "    ELF_gpaw=list(map(lambda k: Si.elf(om,k),klist))\n",
    "    ELF_mermin=list(map(lambda k: Si_mermin.elf(om,k),klist))\n",
    "    ELF_Lindhard=list(map(lambda k: Si_mermin.elf(om,k,method=\"Lindhard\"),klist))\n",
    "\n",
    "    # plot\n",
    "    axs[1][i].plot(klist*1e-3,ELF_gpaw,\n",
    "                   label=\"GPAW\",\n",
    "                  color=\"Indigo\")\n",
    "    axs[1][i].plot(klist*1e-3,ELF_mermin,\n",
    "                   label=r\"Mermin\",\n",
    "                   color=\"orange\")\n",
    "    axs[1][i].plot(klist*1e-3,ELF_Lindhard,\n",
    "                   label=r\"Lindhard\",\n",
    "                   color=\"forestgreen\")\n",
    "    axs[1][i].set_xlabel(r\"$k$ (keV)\",fontsize=16)\n",
    "    axs[1][i].set_yscale(\"Log\")\n",
    "    axs[1][i].set_ylim([1e-5,10])\n",
    "    axs[1][i].tick_params(bottom=True,direction='in',which='both')\n",
    "    \n",
    "#axs[0].set_ylim([0,6])\n",
    "#axs[1].set_ylim([0,4])\n",
    "#axs[2].set_ylim([0,0.45])\n",
    "#axs[3].set_ylim([0,0.2])\n",
    "#axs[1][0].legend(loc=(0.5,0.7),frameon=False)\n",
    "axs[1][0].set_ylabel(r\"$\\mathrm{Im}\\left[\\frac{-1}{\\epsilon(\\omega,k)}\\right]$\",fontsize=16)\n",
    "#axs[0].set_xscale(\"Log\")\n",
    "axs[1][0].set_yscale(\"Log\")\n",
    "\n",
    "# add some decoration\n",
    "for i in range(len(olist)):\n",
    "    axs[1][i].text(0.05,0.9,\"Si\",fontsize=16,transform = axs[1][i].transAxes)\n",
    "    axs[1][i].text(0.95,0.9,r\"$\\omega=$ \"+str(np.round(olist[i],0))+\" eV\",transform = axs[1][i].transAxes,fontsize=16,horizontalalignment=\"right\")\n",
    "    \n",
    "fig.tight_layout()     \n",
    "    \n",
    "\n",
    "fig.savefig(plotdir+\"darkelf_epsilon_6.pdf\",bbox_inches='tight')\n"
   ]
  },
  {
   "cell_type": "markdown",
   "metadata": {},
   "source": [
    "## citation for Mermin data"
   ]
  },
  {
   "cell_type": "markdown",
   "metadata": {},
   "source": [
    "Please cite the corresponding experimental papers if you use the mermin method. When using the GPAW method, please cite the GPAW code."
   ]
  },
  {
   "cell_type": "code",
   "execution_count": null,
   "metadata": {},
   "outputs": [],
   "source": [
    "Si.mermin_ref"
   ]
  },
  {
   "cell_type": "code",
   "execution_count": null,
   "metadata": {},
   "outputs": [],
   "source": []
  }
 ],
 "metadata": {
  "kernelspec": {
   "display_name": "Python 3",
   "language": "python",
   "name": "python3"
  },
  "language_info": {
   "codemirror_mode": {
    "name": "ipython",
    "version": 3
   },
   "file_extension": ".py",
   "mimetype": "text/x-python",
   "name": "python",
   "nbconvert_exporter": "python",
   "pygments_lexer": "ipython3",
   "version": "3.7.6"
  }
 },
 "nbformat": 4,
 "nbformat_minor": 4
}

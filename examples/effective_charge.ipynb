{
 "cells": [
  {
   "cell_type": "code",
   "execution_count": 6,
   "metadata": {},
   "outputs": [
    {
     "name": "stdout",
     "output_type": "stream",
     "text": [
      " .... Loading files for GaAs\n",
      "Loaded GaAs_mermin.dat for epsilon in electron regime\n",
      "electronic ELF taken or calculated from Y. Tu, C. Kwei and C. Tung,Angular and energy dependences of the surface excitation parameter for semiconducting iii–v compounds, Surface Science601(2007) 865.\n",
      "Warning! eps for phonon frequencies not loaded. Need to set phonon_filename to perform data-driven, single phonon calculations\n",
      "Warning! Atomic Migdal calculation not present\n",
      "Warning! Momentum Zion not loaded. Using Z - number of valence electrons.\n",
      "Loaded Ga_atomic_Zion.dat and As_atomic_Zion.dat for effective charges\n",
      "Loaded Ga_pDoS.dat and As_pDoS.dat for partial densities of states\n",
      "Loaded Fn(omega) functions corresponding to density of states in:  Ga_pDoS.dat   As_pDoS.dat\n",
      "------\n",
      " .... Loading files for Si\n",
      "Loaded Si_gpaw_withLFE.dat for epsilon in electron regime\n",
      "electronic ELF taken or calculated from J. Enkovaara et al.,Electronic structure calculations with GPAW: a real-space implementation of the projector augmented-wave method,Journal of Physics:Condensed Matter22(2010) 253202.\n",
      "Warning! eps for phonon frequencies not loaded. Need to set phonon_filename to perform data-driven, single phonon calculations\n",
      "Zion(k) for Migdal calculation taken or calculated from: P. J. Brown, A. G. Fox, E. N. Maslen, M. A. OKeefe,and B. T. M. Willis, “Intensity of diffracted intensities,” in International Tables for Crystallography (American Cancer Society, 2006) Chap. 6.1, pp. 554–595, https://onlinelibrary.wiley.com/doi/pdf/10.1107/97809553602060000\n",
      "Loaded Si_atomic_Zion.dat for dark photon couplings\n",
      "Loaded Si_DoS.dat for density of states\n",
      "Loaded Fn(omega) functions corresponding to density of states in:  Si_DoS.dat\n",
      "------\n",
      " .... Loading files for C\n",
      "Warning! Epsilon grid in electron regime does not exist.\n",
      "Warning! eps for phonon frequencies not loaded. Need to set phonon_filename to perform data-driven, single phonon calculations\n",
      "Zion(k) for Migdal calculation taken or calculated from: P. J. Brown, A. G. Fox, E. N. Maslen, M. A. OKeefe,and B. T. M. Willis, “Intensity of diffracted intensities,” in International Tables for Crystallography (American Cancer Society, 2006) Chap. 6.1, pp. 554–595, https://onlinelibrary.wiley.com/doi/pdf/10.1107/97809553602060000\n",
      "Loaded C_atomic_Zion.dat for dark photon couplings\n",
      "Loaded C_DoS.dat for density of states\n",
      "Loaded Fn(omega) functions corresponding to density of states in:  C_DoS.dat\n",
      "------\n",
      " .... Loading files for Ge\n",
      "Loaded Ge_gpaw_withLFE.dat for epsilon in electron regime\n",
      "electronic ELF taken or calculated from J. Enkovaara et al.,Electronic structure calculations with GPAW: a real-space implementation of the projector augmented-wave method,Journal of Physics:Condensed Matter22(2010) 253202.\n",
      "Warning! eps for phonon frequencies not loaded. Need to set phonon_filename to perform data-driven, single phonon calculations\n",
      "Zion(k) for Migdal calculation taken or calculated from: P. J. Brown, A. G. Fox, E. N. Maslen, M. A. OKeefe,and B. T. M. Willis, “Intensity of diffracted intensities,” in International Tables for Crystallography (American Cancer Society, 2006) Chap. 6.1, pp. 554–595, https://onlinelibrary.wiley.com/doi/pdf/10.1107/97809553602060000\n",
      "Loaded Ge_atomic_Zion.dat for dark photon couplings\n",
      "Loaded Ge_DoS.dat for density of states\n",
      "Loaded Fn(omega) functions corresponding to density of states in:  Ge_DoS.dat\n",
      "------\n"
     ]
    }
   ],
   "source": [
    "%matplotlib inline\n",
    "import seaborn as sns\n",
    "import sys, os\n",
    "import numpy as np\n",
    "from numpy import pi\n",
    "import matplotlib.pyplot as plt\n",
    "import matplotlib.ticker\n",
    "from matplotlib import rc, rcParams\n",
    "import matplotlib.cm as cm\n",
    "from mpl_toolkits.axes_grid1 import make_axes_locatable\n",
    "import time\n",
    "import pandas\n",
    "from scipy import interpolate\n",
    "\n",
    "# Make use of TeX\\ufeff\n",
    "rc('text',usetex=True)\n",
    "# Change all fonts to 'Computer Modern'\n",
    "rc('font',**{'size':14, 'family':'serif','serif':['Times New Roman']})\n",
    "rc('xtick.major', size=5, pad=7)\n",
    "rc('xtick', labelsize=15)\n",
    "rc('ytick.major', size=5, pad=7)\n",
    "rc('ytick', labelsize=15)\n",
    "\n",
    "# this needs to point to the folder where darkelf.py is stored\n",
    "work_dir = os.getcwd()\n",
    "sys.path.append(work_dir+\"/..\")\n",
    "plotdir=work_dir+\"/plots/\"\n",
    "\n",
    "draftdir=\"/Users/knapen/Documents/work/projects/DM_stuff/multiphonon/figures/\"\n",
    "\n",
    "# load the package\n",
    "from darkelf import darkelf, targets\n",
    "\n",
    "gaas = darkelf(target='GaAs')\n",
    "print(\"------\")\n",
    "si = darkelf(target='Si')\n",
    "print(\"------\")\n",
    "diamond = darkelf(target='C')\n",
    "print(\"------\")\n",
    "ge = darkelf(target='Ge')\n",
    "print(\"------\")"
   ]
  },
  {
   "cell_type": "code",
   "execution_count": 7,
   "metadata": {},
   "outputs": [],
   "source": [
    "npoints = 100\n",
    "qrange = np.linspace(gaas.qmin(0.1),gaas.qmax(0.1), npoints)\n",
    "\n",
    "fd = np.array([gaas.fd_darkphoton[i](qrange) for i in range(2)])*np.sqrt(gaas.debye_waller(qrange)).T"
   ]
  },
  {
   "cell_type": "code",
   "execution_count": 8,
   "metadata": {},
   "outputs": [
    {
     "data": {
      "image/png": "[encoded data removed]",
      "text/plain": [
       "<Figure size 432x288 with 2 Axes>"
      ]
     },
     "metadata": {},
     "output_type": "display_data"
    }
   ],
   "source": [
    "colors = sns.color_palette(\"husl\", 5)\n",
    "\n",
    "qrange=np.logspace(2,6,100)\n",
    "\n",
    "si_fd=si.fd_darkphoton(qrange)\n",
    "ge_fd=ge.fd_darkphoton(qrange)\n",
    "ga_fd=gaas.fd_darkphoton[0](qrange)\n",
    "as_fd=gaas.fd_darkphoton[1](qrange)\n",
    "diamond_fd=diamond.fd_darkphoton(qrange)\n",
    "\n",
    "fig, ax1 = plt.subplots()\n",
    "ax2 = ax1.twinx()\n",
    "\n",
    "ax1.plot(qrange,diamond_fd,label=\"C\", color=colors[0])\n",
    "ax1.plot(qrange,si_fd,label=\"Si\", color=colors[1])\n",
    "ax1.plot(qrange,ga_fd,label=\"Ga\", color=colors[2])\n",
    "ax1.plot(qrange,ge_fd,label=\"Ge\", color=colors[3])\n",
    "ax1.plot(qrange,as_fd,label=\"As\", color=colors[4])\n",
    "\n",
    "#plt.plot(qrange,np.ones(len(qrange))*14,\"--\", color=colors[0])\n",
    "#plt.plot(qrange,np.ones(len(qrange))*32,\"--\", color=colors[1])\n",
    "#plt.plot(qrange,np.ones(len(qrange))*6,\"--\", color=colors[2])\n",
    "#plt.plot(qrange,np.ones(len(qrange))*31,\"--\", color=colors[3])\n",
    "#plt.plot(qrange,np.ones(len(qrange))*33,\"--\", color=colors[4])\n",
    "ax1.set_xlim(100,1e6)\n",
    "ax1.set_ylim(0,35)\n",
    "ax2.set_ylim(0,35)\n",
    "ax2.set_yticks([6,14,31,32,33])\n",
    "ax2.tick_params(direction='out', labelsize=6)\n",
    "ax1.set_xscale(\"log\")\n",
    "ax1.legend(ncol=2,fontsize=10)\n",
    "ax1.set_xlabel(r\"$q$ [eV]\")\n",
    "ax1.set_ylabel(r\"$Z_d(q)$\")\n",
    "\n",
    "for ticklabel, tickcolor in zip(ax2.get_yticklabels(), colors):\n",
    "    ticklabel.set_color(tickcolor)\n",
    "\n",
    "\n",
    "fig.savefig(draftdir+\"Zeff.pdf\",bbox_inches='tight')"
   ]
  },
  {
   "cell_type": "code",
   "execution_count": 9,
   "metadata": {},
   "outputs": [
    {
     "data": {
      "text/plain": [
       "[<matplotlib.lines.Line2D at 0x7fb684ac6650>]"
      ]
     },
     "execution_count": 9,
     "metadata": {},
     "output_type": "execute_result"
    },
    {
     "data": {
      "image/png": "[encoded data removed]",
      "text/plain": [
       "<Figure size 432x288 with 1 Axes>"
      ]
     },
     "metadata": {
      "needs_background": "light"
     },
     "output_type": "display_data"
    }
   ],
   "source": [
    "npoints = 100\n",
    "qrange = np.linspace(5.0e4,1.5e5, npoints)\n",
    "ga_fd=gaas.fd_darkphoton[0](qrange)\n",
    "\n",
    "plt.plot(qrange,ga_fd)"
   ]
  },
  {
   "cell_type": "code",
   "execution_count": 10,
   "metadata": {},
   "outputs": [
    {
     "data": {
      "text/plain": [
       "array([26.77827972, 26.87303284, 26.96778597, 27.0625391 , 27.15729222,\n",
       "       27.25204535, 27.34679847, 27.4415516 , 27.53630472, 27.63105785,\n",
       "       27.72581097, 27.8205641 , 27.91168454, 27.97849242, 28.0453003 ,\n",
       "       28.11210818, 28.17891606, 28.24572394, 28.31253182, 28.3793397 ,\n",
       "       28.44614757, 28.51295545, 28.57976333, 28.64657121, 28.71337909,\n",
       "       28.7582188 , 28.79936268, 28.84050656, 28.88165043, 28.92279431,\n",
       "       28.96393819, 29.00508206, 29.04622594, 29.08736982, 29.12851369,\n",
       "       29.16965757, 29.21080145, 29.24198786, 29.2660224 , 29.29005695,\n",
       "       29.31409149, 29.33812603, 29.36216057, 29.38619511, 29.41022965,\n",
       "       29.4342642 , 29.45829874, 29.48233328, 29.50636782, 29.52677646,\n",
       "       29.53903815, 29.55129984, 29.56356153, 29.57582322, 29.58808491,\n",
       "       29.6003466 , 29.61260829, 29.62486998, 29.63713167, 29.64939336,\n",
       "       29.66165505, 29.67391674, 29.68617843, 29.69844012, 29.71070181,\n",
       "       29.7229635 , 29.73522519, 29.74748688, 29.75974857, 29.77201026,\n",
       "       29.78427195, 29.79653364, 29.80879533, 29.82105702, 29.82951073,\n",
       "       29.83676183, 29.84401293, 29.85126403, 29.85851513, 29.86576623,\n",
       "       29.87301733, 29.88026842, 29.88751952, 29.89477062, 29.90202172,\n",
       "       29.90927282, 29.91652392, 29.92377502, 29.93102612, 29.93827722,\n",
       "       29.94552832, 29.95277941, 29.96003051, 29.96728161, 29.97453271,\n",
       "       29.98178381, 29.98903491, 29.99628601, 30.00353711, 30.01078821])"
      ]
     },
     "execution_count": 10,
     "metadata": {},
     "output_type": "execute_result"
    }
   ],
   "source": [
    "ga_fd"
   ]
  },
  {
   "cell_type": "code",
   "execution_count": null,
   "metadata": {},
   "outputs": [],
   "source": []
  },
  {
   "cell_type": "code",
   "execution_count": null,
   "metadata": {},
   "outputs": [],
   "source": []
  },
  {
   "cell_type": "code",
   "execution_count": null,
   "metadata": {},
   "outputs": [],
   "source": []
  },
  {
   "cell_type": "code",
   "execution_count": null,
   "metadata": {},
   "outputs": [],
   "source": []
  },
  {
   "cell_type": "code",
   "execution_count": null,
   "metadata": {},
   "outputs": [],
   "source": []
  },
  {
   "cell_type": "code",
   "execution_count": null,
   "metadata": {},
   "outputs": [],
   "source": []
  },
  {
   "cell_type": "code",
   "execution_count": null,
   "metadata": {},
   "outputs": [],
   "source": []
  },
  {
   "cell_type": "code",
   "execution_count": null,
   "metadata": {},
   "outputs": [],
   "source": [
    "\n"
   ]
  }
 ],
 "metadata": {
  "kernelspec": {
   "display_name": "Python 3",
   "language": "python",
   "name": "python3"
  },
  "language_info": {
   "codemirror_mode": {
    "name": "ipython",
    "version": 3
   },
   "file_extension": ".py",
   "mimetype": "text/x-python",
   "name": "python",
   "nbconvert_exporter": "python",
   "pygments_lexer": "ipython3",
   "version": "3.7.6"
  }
 },
 "nbformat": 4,
 "nbformat_minor": 4
}
